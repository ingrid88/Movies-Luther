{
 "cells": [
  {
   "cell_type": "markdown",
   "metadata": {},
   "source": [
    "# WebScraping"
   ]
  },
  {
   "cell_type": "code",
   "execution_count": 1,
   "metadata": {
    "collapsed": true
   },
   "outputs": [],
   "source": [
    "from dogpile.cache import make_region\n",
    "import requests\n",
    "from lxml import html\n",
    "import csv\n",
    "import pandas as pd\n",
    "import pickle"
   ]
  },
  {
   "cell_type": "code",
   "execution_count": 2,
   "metadata": {
    "collapsed": true
   },
   "outputs": [],
   "source": [
    "from dogpile.cache import make_region\n",
    "\n",
    "cache = make_region().configure(\n",
    "    'dogpile.cache.memory',\n",
    "    expiration_time = 24*2600\n",
    ")"
   ]
  },
  {
   "cell_type": "code",
   "execution_count": 3,
   "metadata": {
    "collapsed": true
   },
   "outputs": [],
   "source": [
    "# Visualisation utils from Kris Joanidis\n",
    "import IPython.display\n",
    "def display_html(string, script = False, iframe = False, style  = False):\n",
    "    '''Display HTML string in iPython notebook. <script> tags are removed by default.'''\n",
    "    root = html.fromstring(string) \n",
    "    if not script:\n",
    "        for element in root.iter(\"script\"):\n",
    "            element.drop_tree()\n",
    "    if not iframe:\n",
    "        for element in root.iter(\"iframe\"):\n",
    "            element.drop_tree()\n",
    "    if not style:\n",
    "        for element in root.iter(\"style\"):\n",
    "            element.drop_tree()\n",
    "        for element in root.iter(\"link\"):\n",
    "            if element.attrib['rel'] == \"stylesheet\":\n",
    "                element.drop_tree()\n",
    "    IPython.display.display(IPython.display.HTML(html.tostring(root).decode('utf-8')))"
   ]
  },
  {
   "cell_type": "markdown",
   "metadata": {},
   "source": [
    "## WebScrape Box office mojo by year\n",
    "http://www.boxofficemojo.com/yearly/chart/?page=\"+str(pg)+\"&view=releasedate&view1=domestic&yr=\"+str(yr)+\"&p=.htm\"\n"
   ]
  },
  {
   "cell_type": "code",
   "execution_count": null,
   "metadata": {
    "collapsed": false
   },
   "outputs": [],
   "source": [
    "# @cache.cache_on_arguments()\n",
    "def pull_page(yr):\n",
    "    url = \"http://www.boxofficemojo.com/oscar/chart/?yr=\"+str(yr)+\"&view=allmovies&p=.htm\"\n",
    "    data = requests.get(url).text\n",
    "    return data\n",
    "\n",
    "def pull_mpage(yr,pg):\n",
    "    url = \"http://www.boxofficemojo.com/yearly/chart/?page=\"+str(pg)+\"&view=releasedate&view1=domestic&yr=\"+str(yr)+\"&p=.htm\"\n",
    "    data = requests.get(url).text\n",
    "    return data\n",
    "    \n",
    "def make_soup(data):\n",
    "    soup = BeautifulSoup(data,\"lxml\")\n",
    "    return soup"
   ]
  },
  {
   "cell_type": "code",
   "execution_count": null,
   "metadata": {
    "collapsed": true
   },
   "outputs": [],
   "source": [
    "## 2002 is the first year they add 'close' column to table. \n",
    "\n",
    "def mojo_movies():\n",
    "    nmdf_list = []\n",
    "    for yr in range(2002,2016):\n",
    "        pg = 1\n",
    "        page = html.fromstring(pull_mpage(yr,pg))\n",
    "        tables = page.cssselect('table table table')\n",
    "        while len(tables) > 0 :\n",
    "            df = pd.read_html(html.tostring(tables[1]),header=0)[0]\n",
    "            df.columns = [\"Rank\",\"Title\",\"Studio\", \"Total_Gross\",\"Gross_no_Theaters\", \"Opening\",\n",
    "                          \"Opening_no_Theaters\",\"Open_date\",\"Close_date\"]\n",
    "            df = df.ix[df.index[1:-3]]\n",
    "\n",
    "            df['Year'] = yr\n",
    "            nmdf_list.append(df)\n",
    "\n",
    "            pg += 1\n",
    "            page = html.fromstring(pull_mpage(yr,pg))\n",
    "            tables = page.cssselect('table table table')\n",
    "\n",
    "    return nmdf_list"
   ]
  },
  {
   "cell_type": "code",
   "execution_count": null,
   "metadata": {
    "collapsed": false
   },
   "outputs": [],
   "source": [
    "## PIPELINE\n",
    "recent = mojo_movies()\n",
    "df1 = pd.concat(recent)\n",
    "df1.to_pickle('2002to2016movie_data.pkl')"
   ]
  },
  {
   "cell_type": "markdown",
   "metadata": {},
   "source": [
    "## WebScrape Box office mojo by oscars\n",
    "http://www.boxofficemojo.com/oscar/chart/?yr=\"+str(yr)+\"&view=allmovies&p=.htm"
   ]
  },
  {
   "cell_type": "code",
   "execution_count": null,
   "metadata": {
    "collapsed": false
   },
   "outputs": [],
   "source": [
    "def mojo_oscars():\n",
    "    nmdf_list = []\n",
    "    for yr in range(1980,2016):\n",
    "        page = html.fromstring(pull_page(yr))\n",
    "        tables = page.cssselect('table table')\n",
    "#         display_html(html.tostring(tables[0]))\n",
    "#         print tables\n",
    "        df = pd.read_html(html.tostring(tables[0]),header=0)[0]\n",
    "        df.columns = [\"Row\",\"YRRank\",\"Picture\",\"Studio\",\"Box Office\",\"Noms\",\"Wins\"]\n",
    "        df['Year'] = yr\n",
    "        nmdf_list.append(df)\n",
    "    return nmdf_list"
   ]
  },
  {
   "cell_type": "code",
   "execution_count": null,
   "metadata": {
    "collapsed": false
   },
   "outputs": [],
   "source": [
    "## PIPELINE\n",
    "# recent = mojo_oscars()\n",
    "df1 = pd.concat(recent)\n",
    "# df1.to_pickle('oscar2.pkl')"
   ]
  },
  {
   "cell_type": "code",
   "execution_count": null,
   "metadata": {
    "collapsed": false
   },
   "outputs": [],
   "source": [
    "df1.head()"
   ]
  },
  {
   "cell_type": "markdown",
   "metadata": {},
   "source": [
    "## IMDB WebScrape\n",
    "1. http://www.imdb.com/find?ref_=nv_sr_fn&q=  (search for movie title)\n",
    "2. http://www.imdb.com/title/tt0076759/?ref_=fn_al_tt_1 (pull movie from search results)\n",
    "3. capture ['IMDB_Score','Users','Metascore','Director','Writers','Actors','Genres','Rating','Title']"
   ]
  },
  {
   "cell_type": "code",
   "execution_count": 4,
   "metadata": {
    "collapsed": true
   },
   "outputs": [],
   "source": [
    "BASE_URL = 'http://www.imdb.com'\n"
   ]
  },
  {
   "cell_type": "code",
   "execution_count": 5,
   "metadata": {
    "collapsed": false
   },
   "outputs": [],
   "source": [
    "@cache.cache_on_arguments()\n",
    "\n",
    "\n",
    "def imdb_data(title):\n",
    "#     movie = '+'.join(title.split())\n",
    "    title = '\"%s\"' % title\n",
    "    movie = '+'.join(title.split())\n",
    "    print movie\n",
    "    url = \"%s/find?s=tt&q=%s\" % (BASE_URL, movie)\n",
    "    print url\n",
    "    page = html.fromstring(requests.get(url).text)\n",
    "#     display(page)\n",
    "    try: \n",
    "#         movie_list = page.cssselect('table.findList tr td.result_text a')\n",
    "        movie_list = page.cssselect('table.findList')\n",
    "\n",
    "#     display_html(html.tostring(page.cssselect('table.findList')[0]))\n",
    "    except:\n",
    "        movie_list = []\n",
    "        failed_movies.append(title)\n",
    "        print \"failedHere\"\n",
    "    return movie_list[0]\n",
    "\n",
    "def imdb_title():\n",
    "    return \"nothing\"\n",
    "\n",
    "def imdb_page(movie_list):\n",
    "    movie_link = movie_list[0].get('href')\n",
    "    movie_page_url = BASE_URL + movie_link\n",
    "    print movie_page_url\n",
    "    next_page = html.fromstring(requests.get(movie_page_url).text)\n",
    "    print \"next_page gotten\"\n",
    "    return next_page\n",
    "\n",
    "def imdb_pull(next_page):\n",
    "    \n",
    "#     next_page = html.fromstring(requests.get(next_page).text)\n",
    "    imdb_rating = next_page.cssselect('table div[class=star-box-details] span[itemprop=ratingValue]')[0].text_content()\n",
    "#     print imdb_rating\n",
    "    genres = next_page.cssselect('table div[class=infobar] span[itemprop=\"genre\"]')\n",
    "    genre_list = tuple([genre.text_content() for genre in genres])\n",
    "#     rating = next_page.cssselect('table div[class=infobar] meta.content')[0]\n",
    "#     print genre_list\n",
    "    rating = next_page.cssselect('table div[class=infobar] meta')[0].get('content')\n",
    "#     print rating\n",
    "    users = next_page.cssselect('table div[class=star-box-details] span[itemprop=ratingCount]')[0].text_content()\n",
    "#     print users\n",
    "    metascore = next_page.cssselect('table div[class=star-box-details] a[href=\"criticreviews?ref_=tt_ov_rt\"]')[0].text_content()\n",
    "#     print metascore\n",
    "    director = next_page.cssselect('table div[itemprop=\"director\"] span[itemprop=name]')[0].text_content()\n",
    "#     print director\n",
    "    writers = next_page.cssselect('table div[itemprop=\"creator\"] span[itemprop=name]')\n",
    "    writer_list = tuple([writer.text_content() for writer in writers])\n",
    "#     print writer_list\n",
    "    actors = next_page.cssselect('table div[itemprop=\"actors\"] span[itemprop=name]')\n",
    "    actor_list = tuple([actor.text_content() for actor in actors])\n",
    "#     print actor_list\n",
    "    return [imdb_rating, users, metascore, director, writer_list, actor_list, genre_list,rating]\n",
    "\n"
   ]
  },
  {
   "cell_type": "code",
   "execution_count": 26,
   "metadata": {
    "collapsed": false
   },
   "outputs": [
    {
     "name": "stdout",
     "output_type": "stream",
     "text": [
      "<a href=\"/title/tt1608290/?ref_=fn_tt_tt_1\">Zoolander 2</a> (2016) \n",
      "Zoolander 2\n",
      "/title/tt1608290/?ref_=fn_tt_tt_1\n",
      "/title/tt1608290/?ref_=fn_tt_tt_1\n",
      "<a href=\"/title/tt1608290/?ref_=fn_tt_tt_1\">Zoolander 2</a> (2016) \n"
     ]
    },
    {
     "ename": "NameError",
     "evalue": "name 'movie_list' is not defined",
     "output_type": "error",
     "traceback": [
      "\u001b[0;31m---------------------------------------------------------------------------\u001b[0m",
      "\u001b[0;31mNameError\u001b[0m                                 Traceback (most recent call last)",
      "\u001b[0;32m<ipython-input-26-f11fde8958c1>\u001b[0m in \u001b[0;36m<module>\u001b[0;34m()\u001b[0m\n\u001b[1;32m     21\u001b[0m \u001b[0;34m\u001b[0m\u001b[0m\n\u001b[1;32m     22\u001b[0m \u001b[0;31m#     print html.tostring(movie_table.cssselect('')\u001b[0m\u001b[0;34m\u001b[0m\u001b[0;34m\u001b[0m\u001b[0m\n\u001b[0;32m---> 23\u001b[0;31m     \u001b[0;32mif\u001b[0m \u001b[0mlen\u001b[0m\u001b[0;34m(\u001b[0m\u001b[0mmovie_list\u001b[0m\u001b[0;34m)\u001b[0m \u001b[0;34m>\u001b[0m \u001b[0;36m0\u001b[0m\u001b[0;34m:\u001b[0m\u001b[0;34m\u001b[0m\u001b[0m\n\u001b[0m\u001b[1;32m     24\u001b[0m         \u001b[0mnext_page\u001b[0m \u001b[0;34m=\u001b[0m \u001b[0mimdb_page\u001b[0m\u001b[0;34m(\u001b[0m\u001b[0mmovie_list\u001b[0m\u001b[0;34m)\u001b[0m\u001b[0;34m\u001b[0m\u001b[0m\n\u001b[1;32m     25\u001b[0m \u001b[0;31m#         display_html(html.tostring(next_page))\u001b[0m\u001b[0;34m\u001b[0m\u001b[0;34m\u001b[0m\u001b[0m\n",
      "\u001b[0;31mNameError\u001b[0m: name 'movie_list' is not defined"
     ]
    }
   ],
   "source": [
    "columns=[\"IMDB_Score\",\"Users\",\"Metascore\",\"Director\",\"Writers\",\"Actors\",\"Genres\",\"Rating\"]\n",
    "imdb_df =pd.DataFrame(columns=columns) \n",
    "n_failed_movies = []\n",
    "for title in ['Zoolander','Star Wars']:\n",
    "    movie_table = imdb_data(title) \n",
    "#     for i in range(0,5):\n",
    "#         if \n",
    "    print html.tostring(movie_table.cssselect('tr td.result_text a')[0])\n",
    "#     .get('href')\n",
    "    print movie_table.cssselect('tr td.result_text a')[0].text_content()\n",
    "    print movie_table.cssselect('tr td.result_text a')[0].get('href')\n",
    "    print movie_table.cssselect('tr td.result_text a')[0].get('href')\n",
    "    for test in movie_table.cssselect('tr td.result_text')[0]:\n",
    "        print html.tostring(test)\n",
    "    \n",
    "#     print html.tostring(movie_table.cssselect('tr td.result_text a')[1])\n",
    "#     print html.tostring(movie_table.cssselect('tr td.result_text a')[2])\n",
    "#     print html.tostring(movie_table.cssselect('tr td.result_text a')[1])\n",
    "\n",
    "\n",
    "    \n",
    "#     print html.tostring(movie_table.cssselect('')\n",
    "    if len(movie_list) > 0:\n",
    "        next_page = imdb_page(movie_list)\n",
    "#         display_html(html.tostring(next_page))\n",
    "        try:\n",
    "            row = imdb_pull(next_page)\n",
    "            dictionary = dict(zip(columns,row))\n",
    "            dictionary['Title'] = title\n",
    "            imdb_df = imdb_df.append(dictionary, ignore_index=True)\n",
    "        except:\n",
    "            print \"failed\"\n",
    "            n_failed_movies.append(title)\n",
    "            continue"
   ]
  },
  {
   "cell_type": "code",
   "execution_count": null,
   "metadata": {
    "collapsed": false
   },
   "outputs": [],
   "source": [
    "imdb_df.to_pickle('imdb_2')"
   ]
  },
  {
   "cell_type": "code",
   "execution_count": null,
   "metadata": {
    "collapsed": false
   },
   "outputs": [],
   "source": [
    "# failed_movies\n",
    "with open('imdb_failed_movies.pkl', 'w') as picklefile:\n",
    "    pickle.dump(failed_movies, picklefile)"
   ]
  },
  {
   "cell_type": "code",
   "execution_count": null,
   "metadata": {
    "collapsed": false
   },
   "outputs": [],
   "source": [
    "len(n_failed_movies)\n"
   ]
  },
  {
   "cell_type": "code",
   "execution_count": null,
   "metadata": {
    "collapsed": false
   },
   "outputs": [],
   "source": [
    "#unpickle\n",
    "with open(\"titlelist.pkl\", 'r') as picklefile: \n",
    "    movie_titles = pickle.load(picklefile)\n",
    "with open(\"imdb_t6.pkl\", 'r') as picklefile: \n",
    "    completed = pickle.load(picklefile)\n",
    "with open(\"imdb_failed_movies.pkl\", 'r') as picklefile: \n",
    "    failed_movies = pickle.load(picklefile)"
   ]
  },
  {
   "cell_type": "code",
   "execution_count": null,
   "metadata": {
    "collapsed": false
   },
   "outputs": [],
   "source": [
    "m_titles = list(movie_titles.values)\n",
    "c_titles = list(completed.Title.values)\n"
   ]
  },
  {
   "cell_type": "code",
   "execution_count": null,
   "metadata": {
    "collapsed": false
   },
   "outputs": [],
   "source": [
    "ic_titles = set(m_titles) - (set(m_titles) & (set().union(*[c_titles,failed_movies])))\n",
    "ic = sorted(ic_titles, reverse=True)\n"
   ]
  },
  {
   "cell_type": "code",
   "execution_count": null,
   "metadata": {
    "collapsed": false
   },
   "outputs": [],
   "source": [
    "len(ic)"
   ]
  },
  {
   "cell_type": "code",
   "execution_count": null,
   "metadata": {
    "collapsed": false
   },
   "outputs": [],
   "source": [
    "ic = set(ic) - set([u\"Le combat dans l'\\xeele (1962)\",u'A Prophet (Un proph\\xe8te)'])\n",
    "#  u\"Le combat dans l'\\xeele (1962)\""
   ]
  },
  {
   "cell_type": "code",
   "execution_count": null,
   "metadata": {
    "collapsed": false
   },
   "outputs": [],
   "source": [
    "ic"
   ]
  },
  {
   "cell_type": "code",
   "execution_count": null,
   "metadata": {
    "collapsed": false
   },
   "outputs": [],
   "source": [
    "failed_movies"
   ]
  },
  {
   "cell_type": "code",
   "execution_count": null,
   "metadata": {
    "collapsed": false
   },
   "outputs": [],
   "source": [
    "## http://data.bls.gov/pdq/SurveyOutputServlet \n",
    "cpi_excel = open('SeriesReport.xlsx','r')\n",
    "cpidf = pd.read_excel(cpi_excel,header=9).set_index('Year')\n",
    "cpi = cpidf.drop({'HALF1','HALF2'},axis=1)"
   ]
  },
  {
   "cell_type": "code",
   "execution_count": null,
   "metadata": {
    "collapsed": false
   },
   "outputs": [],
   "source": [
    "completed.head()"
   ]
  },
  {
   "cell_type": "code",
   "execution_count": null,
   "metadata": {
    "collapsed": false
   },
   "outputs": [],
   "source": [
    "## Base Period:  1982-84=100\n",
    "%matplotlib inline\n",
    "from datetime import datetime\n",
    "import matplotlib.pyplot as plt\n",
    "cpi.head(n=10)\n",
    "# cpi['Jan'][1980]\n",
    "# plt.plot()\n",
    "cpi.keys()pandas.to_datetime(*args, \n"
   ]
  },
  {
   "cell_type": "code",
   "execution_count": null,
   "metadata": {
    "collapsed": false
   },
   "outputs": [],
   "source": [
    "unstacked_cpi = cpi.unstack()"
   ]
  },
  {
   "cell_type": "code",
   "execution_count": null,
   "metadata": {
    "collapsed": false
   },
   "outputs": [],
   "source": [
    "unstacked_cpi.reset_index()"
   ]
  },
  {
   "cell_type": "code",
   "execution_count": null,
   "metadata": {
    "collapsed": false
   },
   "outputs": [],
   "source": [
    "unstacked_cpi_df = pd.DataFrame(unstacked_cpi).reset_index()"
   ]
  },
  {
   "cell_type": "code",
   "execution_count": null,
   "metadata": {
    "collapsed": false
   },
   "outputs": [],
   "source": [
    "unstacked_cpi_df.columns = ['month', 'year','cpi']"
   ]
  },
  {
   "cell_type": "code",
   "execution_count": null,
   "metadata": {
    "collapsed": false
   },
   "outputs": [],
   "source": [
    "unstacked_cpi_df.head()"
   ]
  },
  {
   "cell_type": "code",
   "execution_count": null,
   "metadata": {
    "collapsed": false
   },
   "outputs": [],
   "source": [
    "unstacked_cpi_df[\"Date\"] = df.bar.map(str) + \" is \" + df.foo"
   ]
  },
  {
   "cell_type": "code",
   "execution_count": null,
   "metadata": {
    "collapsed": true
   },
   "outputs": [],
   "source": []
  }
 ],
 "metadata": {
  "kernelspec": {
   "display_name": "Python 2",
   "language": "python",
   "name": "python2"
  },
  "language_info": {
   "codemirror_mode": {
    "name": "ipython",
    "version": 2
   },
   "file_extension": ".py",
   "mimetype": "text/x-python",
   "name": "python",
   "nbconvert_exporter": "python",
   "pygments_lexer": "ipython2",
   "version": "2.7.11"
  }
 },
 "nbformat": 4,
 "nbformat_minor": 0
}
