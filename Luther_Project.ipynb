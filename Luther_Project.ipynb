{
 "cells": [
  {
   "cell_type": "markdown",
   "metadata": {},
   "source": [
    "# Luther Project"
   ]
  },
  {
   "cell_type": "markdown",
   "metadata": {},
   "source": [
    "## WebScraping Movie Data"
   ]
  },
  {
   "cell_type": "markdown",
   "metadata": {},
   "source": [
    "#### Step 1: Selenium - Navigate for data"
   ]
  },
  {
   "cell_type": "markdown",
   "metadata": {},
   "source": [
    "#### Step 2: Request - Pull HTML"
   ]
  },
  {
   "cell_type": "code",
   "execution_count": 2,
   "metadata": {
    "collapsed": true
   },
   "outputs": [],
   "source": [
    "import requests\n",
    "from bs4 import BeautifulSoup\n",
    "import csv\n",
    "import pandas as pd\n",
    "import pickle"
   ]
  },
  {
   "cell_type": "code",
   "execution_count": 3,
   "metadata": {
    "collapsed": true
   },
   "outputs": [],
   "source": [
    "# def pull_oscars():\n",
    "def save_pages():\n",
    "    yr_min = 1980\n",
    "    yr_max = 2015\n",
    "    for yr in range(yr_min,yr_max+1):\n",
    "        url = \"http://www.boxofficemojo.com/oscar/chart/?yr=\"+str(yr)+\"&view=allmovies&p=.htm\"\n",
    "        data = requests.get(url).text\n",
    "        file_name = str(yr)+'_oscars.pkl'\n",
    "        output = open(file_name,'wb')\n",
    "        pickle.dump(data, output)\n",
    "        output.close()"
   ]
  },
  {
   "cell_type": "code",
   "execution_count": 4,
   "metadata": {
    "collapsed": true
   },
   "outputs": [],
   "source": [
    "from lxml import html\n",
    "\n",
    "# Visualisation utils\n",
    "import IPython.display\n",
    "def display_html(string, script = False, iframe = False, style  = False):\n",
    "    '''Display HTML string in iPython notebook. <script> tags are removed by default.'''\n",
    "    root = html.fromstring(string) \n",
    "    if not script:\n",
    "        for element in root.iter(\"script\"):\n",
    "            element.drop_tree()\n",
    "    if not iframe:\n",
    "        for element in root.iter(\"iframe\"):\n",
    "            element.drop_tree()\n",
    "    if not style:\n",
    "        for element in root.iter(\"style\"):\n",
    "            element.drop_tree()\n",
    "        for element in root.iter(\"link\"):\n",
    "            if element.attrib['rel'] == \"stylesheet\":\n",
    "                element.drop_tree()\n",
    "    IPython.display.display(IPython.display.HTML(html.tostring(root).decode('utf-8')))"
   ]
  },
  {
   "cell_type": "code",
   "execution_count": 5,
   "metadata": {
    "collapsed": true
   },
   "outputs": [],
   "source": [
    "def pull_page(yr):\n",
    "    url = \"http://www.boxofficemojo.com/oscar/chart/?yr=\"+str(yr)+\"&view=allmovies&p=.htm\"\n",
    "    data = requests.get(url).text\n",
    "    return data\n",
    "\n",
    "def make_soup(data):\n",
    "    soup = BeautifulSoup(data,\"lxml\")\n",
    "    return soup"
   ]
  },
  {
   "cell_type": "code",
   "execution_count": 170,
   "metadata": {
    "collapsed": false
   },
   "outputs": [],
   "source": [
    "page = html.fromstring(pull_mpage(2014,8))\n",
    "# display_html(html.tostring(page.cssselect('table table table')[1]))\n",
    "\n",
    "df = pd.read_html(html.tostring(page.cssselect('table table table')[1]),header=0)[0]\n",
    "# http://www.the-numbers.com/movie/budgets/all\n",
    "def pull_page(yr):\n",
    "    url = \"http://www.boxofficemojo.com/oscar/chart/?yr=\"+str(yr)+\"&view=allmovies&p=.htm\"\n",
    "    data = requests.get(url).text\n",
    "    return data\n",
    "page = html.fromstring(pull_page(i))\n",
    "url = 'http://www.the-numbers.com/movie/budgets/all'\n",
    "page = html.fromstring(requests.get(url).text)\n",
    "df = pd.read_html(html.tostring(page.cssselect('table')[0]))\n",
    "\n",
    "\n",
    "# df.drop(df.head(3).index, inplace=True)\n",
    "df.columns = [\"Rank\",\"Movie Title\",\"Studio\", \"Total_Gross\",\"Theaters\", \"Opening\",\"Theaters\",\"Open\",\"Close\"]\n",
    "df = df.drop(0)\n",
    "df = df.ix[df.index[:-3]]\n",
    "\n",
    "# df = df.drop(df.ix[3:])\n",
    "# df_list = []\n",
    "# for i in range(1980,2016):\n",
    "#     page = html.fromstring(pull_page(i))\n",
    "#     df = pd.read_html(html.tostring(page.cssselect('table table')[0]),header=0)[0].drop('Row',axis=1)\n",
    "#     df['Year'] = i\n",
    "#     df_list.append(df)\n"
   ]
  },
  {
   "cell_type": "code",
   "execution_count": null,
   "metadata": {
    "collapsed": true
   },
   "outputs": [],
   "source": [
    "df = df.drop(df.ix[3:])\n",
    "df_list = []\n",
    "for i in range(1980,2016):\n",
    "    page = html.fromstring(pull_page(i))\n",
    "    df = pd.read_html(html.tostring(page.cssselect('table table')[0]),header=0)[0].drop('Row',axis=1)\n",
    "    df['Year'] = i\n",
    "    df_list.append(df)"
   ]
  },
  {
   "cell_type": "code",
   "execution_count": 171,
   "metadata": {
    "collapsed": false
   },
   "outputs": [
    {
     "data": {
      "text/html": [
       "<div>\n",
       "<table border=\"1\" class=\"dataframe\">\n",
       "  <thead>\n",
       "    <tr style=\"text-align: right;\">\n",
       "      <th></th>\n",
       "      <th>Rank</th>\n",
       "      <th>Movie Title</th>\n",
       "      <th>Studio</th>\n",
       "      <th>Total_Gross</th>\n",
       "      <th>Theaters</th>\n",
       "      <th>Opening</th>\n",
       "      <th>Theaters</th>\n",
       "      <th>Open</th>\n",
       "      <th>Close</th>\n",
       "    </tr>\n",
       "  </thead>\n",
       "  <tbody>\n",
       "    <tr>\n",
       "      <th>1</th>\n",
       "      <td>701</td>\n",
       "      <td>Cinemanovels</td>\n",
       "      <td>Mont.</td>\n",
       "      <td>$398</td>\n",
       "      <td>NaN</td>\n",
       "      <td>NaN</td>\n",
       "      <td>NaN</td>\n",
       "      <td>7/3</td>\n",
       "      <td>-</td>\n",
       "    </tr>\n",
       "    <tr>\n",
       "      <th>2</th>\n",
       "      <td>702</td>\n",
       "      <td>Mummy, I'm a Zombie</td>\n",
       "      <td>P4</td>\n",
       "      <td>$120</td>\n",
       "      <td>NaN</td>\n",
       "      <td>NaN</td>\n",
       "      <td>NaN</td>\n",
       "      <td>9/20</td>\n",
       "      <td>-</td>\n",
       "    </tr>\n",
       "  </tbody>\n",
       "</table>\n",
       "</div>"
      ],
      "text/plain": [
       "  Rank          Movie Title Studio Total_Gross Theaters Opening Theaters  \\\n",
       "1  701         Cinemanovels  Mont.        $398      NaN     NaN      NaN   \n",
       "2  702  Mummy, I'm a Zombie     P4        $120      NaN     NaN      NaN   \n",
       "\n",
       "   Open Close  \n",
       "1   7/3     -  \n",
       "2  9/20     -  "
      ]
     },
     "execution_count": 171,
     "metadata": {},
     "output_type": "execute_result"
    }
   ],
   "source": [
    "df"
   ]
  },
  {
   "cell_type": "code",
   "execution_count": 168,
   "metadata": {
    "collapsed": false
   },
   "outputs": [],
   "source": [
    "df = df.ix[df.index[:-3]]\n",
    "# df.index[:-3]"
   ]
  },
  {
   "cell_type": "code",
   "execution_count": 169,
   "metadata": {
    "collapsed": false
   },
   "outputs": [
    {
     "data": {
      "text/html": [
       "<div>\n",
       "<table border=\"1\" class=\"dataframe\">\n",
       "  <thead>\n",
       "    <tr style=\"text-align: right;\">\n",
       "      <th></th>\n",
       "      <th>Rank</th>\n",
       "      <th>Movie Title</th>\n",
       "      <th>Studio</th>\n",
       "      <th>Total_Gross</th>\n",
       "      <th>Theaters</th>\n",
       "      <th>Opening</th>\n",
       "      <th>Theaters</th>\n",
       "      <th>Open</th>\n",
       "      <th>Close</th>\n",
       "    </tr>\n",
       "  </thead>\n",
       "  <tbody>\n",
       "    <tr>\n",
       "      <th>1</th>\n",
       "      <td>701</td>\n",
       "      <td>Cinemanovels</td>\n",
       "      <td>Mont.</td>\n",
       "      <td>$398</td>\n",
       "      <td>NaN</td>\n",
       "      <td>NaN</td>\n",
       "      <td>NaN</td>\n",
       "      <td>7/3</td>\n",
       "      <td>-</td>\n",
       "    </tr>\n",
       "    <tr>\n",
       "      <th>2</th>\n",
       "      <td>702</td>\n",
       "      <td>Mummy, I'm a Zombie</td>\n",
       "      <td>P4</td>\n",
       "      <td>$120</td>\n",
       "      <td>NaN</td>\n",
       "      <td>NaN</td>\n",
       "      <td>NaN</td>\n",
       "      <td>9/20</td>\n",
       "      <td>-</td>\n",
       "    </tr>\n",
       "  </tbody>\n",
       "</table>\n",
       "</div>"
      ],
      "text/plain": [
       "  Rank          Movie Title Studio Total_Gross Theaters Opening Theaters  \\\n",
       "1  701         Cinemanovels  Mont.        $398      NaN     NaN      NaN   \n",
       "2  702  Mummy, I'm a Zombie     P4        $120      NaN     NaN      NaN   \n",
       "\n",
       "   Open Close  \n",
       "1   7/3     -  \n",
       "2  9/20     -  "
      ]
     },
     "execution_count": 169,
     "metadata": {},
     "output_type": "execute_result"
    }
   ],
   "source": [
    "df.head()"
   ]
  },
  {
   "cell_type": "code",
   "execution_count": 87,
   "metadata": {
    "collapsed": false
   },
   "outputs": [],
   "source": [
    "full = pd.concat(df_list)"
   ]
  },
  {
   "cell_type": "code",
   "execution_count": 89,
   "metadata": {
    "collapsed": false
   },
   "outputs": [
    {
     "data": {
      "text/html": [
       "<div>\n",
       "<table border=\"1\" class=\"dataframe\">\n",
       "  <thead>\n",
       "    <tr style=\"text-align: right;\">\n",
       "      <th></th>\n",
       "      <th>YRRank*</th>\n",
       "      <th>Picture (click to view)</th>\n",
       "      <th>Studio</th>\n",
       "      <th>Box Office</th>\n",
       "      <th>Noms</th>\n",
       "      <th>Wins</th>\n",
       "      <th>Year</th>\n",
       "    </tr>\n",
       "  </thead>\n",
       "  <tbody>\n",
       "    <tr>\n",
       "      <th>0</th>\n",
       "      <td>11</td>\n",
       "      <td>Ordinary People</td>\n",
       "      <td>Par.</td>\n",
       "      <td>$54,766,923</td>\n",
       "      <td>7</td>\n",
       "      <td>4</td>\n",
       "      <td>1980</td>\n",
       "    </tr>\n",
       "    <tr>\n",
       "      <th>1</th>\n",
       "      <td>33</td>\n",
       "      <td>Tess</td>\n",
       "      <td>Col.</td>\n",
       "      <td>$20,093,330</td>\n",
       "      <td>6</td>\n",
       "      <td>3</td>\n",
       "      <td>1980</td>\n",
       "    </tr>\n",
       "    <tr>\n",
       "      <th>2</th>\n",
       "      <td>27</td>\n",
       "      <td>Raging Bull</td>\n",
       "      <td>MGM</td>\n",
       "      <td>$23,334,953</td>\n",
       "      <td>8</td>\n",
       "      <td>2</td>\n",
       "      <td>1980</td>\n",
       "    </tr>\n",
       "    <tr>\n",
       "      <th>3</th>\n",
       "      <td>32</td>\n",
       "      <td>Fame (1980)</td>\n",
       "      <td>MGM</td>\n",
       "      <td>$21,202,829</td>\n",
       "      <td>6</td>\n",
       "      <td>2</td>\n",
       "      <td>1980</td>\n",
       "    </tr>\n",
       "    <tr>\n",
       "      <th>4</th>\n",
       "      <td>86</td>\n",
       "      <td>Melvin and Howard</td>\n",
       "      <td>Uni.</td>\n",
       "      <td>$4,309,490</td>\n",
       "      <td>3</td>\n",
       "      <td>2</td>\n",
       "      <td>1980</td>\n",
       "    </tr>\n",
       "    <tr>\n",
       "      <th>5</th>\n",
       "      <td>7</td>\n",
       "      <td>Coal Miner's Daughter</td>\n",
       "      <td>Uni.</td>\n",
       "      <td>$67,182,787</td>\n",
       "      <td>7</td>\n",
       "      <td>1</td>\n",
       "      <td>1980</td>\n",
       "    </tr>\n",
       "    <tr>\n",
       "      <th>6</th>\n",
       "      <td>1</td>\n",
       "      <td>The Empire Strikes Back</td>\n",
       "      <td>Fox</td>\n",
       "      <td>$209,398,025</td>\n",
       "      <td>3</td>\n",
       "      <td>1</td>\n",
       "      <td>1980</td>\n",
       "    </tr>\n",
       "    <tr>\n",
       "      <th>7</th>\n",
       "      <td>25</td>\n",
       "      <td>The Elephant Man</td>\n",
       "      <td>Par.</td>\n",
       "      <td>$26,010,864</td>\n",
       "      <td>8</td>\n",
       "      <td>0</td>\n",
       "      <td>1980</td>\n",
       "    </tr>\n",
       "    <tr>\n",
       "      <th>8</th>\n",
       "      <td>6</td>\n",
       "      <td>Private Benjamin</td>\n",
       "      <td>WB</td>\n",
       "      <td>$69,847,348</td>\n",
       "      <td>3</td>\n",
       "      <td>0</td>\n",
       "      <td>1980</td>\n",
       "    </tr>\n",
       "    <tr>\n",
       "      <th>9</th>\n",
       "      <td>75</td>\n",
       "      <td>The Stunt Man</td>\n",
       "      <td>Fox</td>\n",
       "      <td>$7,063,886</td>\n",
       "      <td>3</td>\n",
       "      <td>0</td>\n",
       "      <td>1980</td>\n",
       "    </tr>\n",
       "  </tbody>\n",
       "</table>\n",
       "</div>"
      ],
      "text/plain": [
       "   YRRank*  Picture (click to view) Studio    Box Office  Noms  Wins  Year\n",
       "0       11          Ordinary People   Par.   $54,766,923     7     4  1980\n",
       "1       33                     Tess   Col.   $20,093,330     6     3  1980\n",
       "2       27              Raging Bull    MGM   $23,334,953     8     2  1980\n",
       "3       32              Fame (1980)    MGM   $21,202,829     6     2  1980\n",
       "4       86        Melvin and Howard   Uni.    $4,309,490     3     2  1980\n",
       "5        7    Coal Miner's Daughter   Uni.   $67,182,787     7     1  1980\n",
       "6        1  The Empire Strikes Back    Fox  $209,398,025     3     1  1980\n",
       "7       25         The Elephant Man   Par.   $26,010,864     8     0  1980\n",
       "8        6         Private Benjamin     WB   $69,847,348     3     0  1980\n",
       "9       75            The Stunt Man    Fox    $7,063,886     3     0  1980"
      ]
     },
     "execution_count": 89,
     "metadata": {},
     "output_type": "execute_result"
    }
   ],
   "source": [
    "full.head(10)"
   ]
  },
  {
   "cell_type": "code",
   "execution_count": 6,
   "metadata": {
    "collapsed": false
   },
   "outputs": [],
   "source": [
    "def pull_mpage(yr,pg):\n",
    "    url = \"http://www.boxofficemojo.com/yearly/chart/?page=\"+str(pg)+\"&view=releasedate&view2=domestic&yr=\"+str(yr)+\"&p=.htm\"    \n",
    "    data = requests.get(url).text\n",
    "    return data\n",
    "# http://www.boxofficemojo.com/yearly/chart/?yr=1979&view=releasedate&view2=domestic&sort=gross&order=DESC&&p=.htm\n"
   ]
  },
  {
   "cell_type": "code",
   "execution_count": null,
   "metadata": {
    "collapsed": true
   },
   "outputs": [],
   "source": [
    "\n",
    "mdf_list = []\n",
    "for i in range(1980,2016):\n",
    "    page = html.fromstring(pull_mpage(i))\n",
    "    df = pd.read_html(html.tostring(page.cssselect('table table')[0]),header=0)[0].drop('Row',axis=1)\n",
    "    df['Year'] = i\n",
    "    mdf_list.append(df)"
   ]
  },
  {
   "cell_type": "code",
   "execution_count": 183,
   "metadata": {
    "collapsed": false
   },
   "outputs": [],
   "source": [
    "\n",
    "page = html.fromstring(pull_mpage(2014,1))\n",
    "# display_html(html.tostring(page.cssselect('table table table')[1]))\n",
    "# if \n",
    "df = pd.read_html(html.tostring(page.cssselect('table table table')[1]),header=0)[0]\n",
    "# df.drop(df.head(3).index, inplace=True)\n",
    "df.columns = [\"Rank\",\"Movie Title\",\"Studio\", \"Total_Gross\",\"Theaters\", \"Opening\",\"Theaters\",\"Open\",\"Close\"]\n",
    "df = df.drop(0)\n",
    "df = df.ix[df.index[:-3]]"
   ]
  },
  {
   "cell_type": "code",
   "execution_count": 212,
   "metadata": {
    "collapsed": false
   },
   "outputs": [],
   "source": [
    "## 2002 first year they add 'close' column to table. \n",
    "# for yr in range(1980,2016):\n",
    "\n",
    "nmdf_list = []\n",
    "for yr in range(2002,2016):\n",
    "    pg = 1\n",
    "    page = html.fromstring(pull_mpage(yr,pg))\n",
    "    tables = page.cssselect('table table table')\n",
    "    while len(tables) > 0 :\n",
    "        df = pd.read_html(html.tostring(tables[1]),header=0)[0]\n",
    "        df.columns = [\"Rank\",\"Movie Title\",\"Studio\", \"Total_Gross\",\"Theaters\", \"Opening\",\"Theaters\",\"Open\",\"Close\"]\n",
    "        df = df.ix[df.index[1:-3]]\n",
    "        \n",
    "        df['Year'] = yr\n",
    "        nmdf_list.append(df)\n",
    "        \n",
    "        pg += 1\n",
    "        page = html.fromstring(pull_mpage(yr,pg))\n",
    "        tables = page.cssselect('table table table')\n",
    "        \n",
    "\n",
    "    "
   ]
  },
  {
   "cell_type": "code",
   "execution_count": 378,
   "metadata": {
    "collapsed": false
   },
   "outputs": [
    {
     "ename": "ImportError",
     "evalue": "No module named dogpile.cache",
     "output_type": "error",
     "traceback": [
      "\u001b[0;31m---------------------------------------------------------------------------\u001b[0m",
      "\u001b[0;31mImportError\u001b[0m                               Traceback (most recent call last)",
      "\u001b[0;32m<ipython-input-378-5ecc459d15e0>\u001b[0m in \u001b[0;36m<module>\u001b[0;34m()\u001b[0m\n\u001b[1;32m      1\u001b[0m \u001b[0;31m# earl = earl.append(mdf_list,)\u001b[0m\u001b[0;34m\u001b[0m\u001b[0;34m\u001b[0m\u001b[0m\n\u001b[0;32m----> 2\u001b[0;31m \u001b[0;32mfrom\u001b[0m \u001b[0mdogpile\u001b[0m\u001b[0;34m.\u001b[0m\u001b[0mcache\u001b[0m \u001b[0;32mimport\u001b[0m \u001b[0mmake_region\u001b[0m\u001b[0;34m\u001b[0m\u001b[0m\n\u001b[0m\u001b[1;32m      3\u001b[0m \u001b[0;34m\u001b[0m\u001b[0m\n\u001b[1;32m      4\u001b[0m cache = make_region().configure(\n\u001b[1;32m      5\u001b[0m     \u001b[0;34m'dogpile.cache.memory'\u001b[0m\u001b[0;34m,\u001b[0m\u001b[0;34m\u001b[0m\u001b[0m\n",
      "\u001b[0;31mImportError\u001b[0m: No module named dogpile.cache"
     ]
    }
   ],
   "source": [
    "# earl = earl.append(mdf_list,)\n",
    "from dogpile.cache import make_region\n",
    "\n",
    "cache = make_region().configure(\n",
    "    'dogpile.cache.memory',\n",
    "    expiration_time = 24*2600\n",
    ")\n",
    "\n",
    "\n"
   ]
  },
  {
   "cell_type": "code",
   "execution_count": 380,
   "metadata": {
    "collapsed": false
   },
   "outputs": [
    {
     "ename": "ImportError",
     "evalue": "No module named dogpile.cache",
     "output_type": "error",
     "traceback": [
      "\u001b[0;31m---------------------------------------------------------------------------\u001b[0m",
      "\u001b[0;31mImportError\u001b[0m                               Traceback (most recent call last)",
      "\u001b[0;32m<ipython-input-380-e4ade0c2b385>\u001b[0m in \u001b[0;36m<module>\u001b[0;34m()\u001b[0m\n\u001b[0;32m----> 1\u001b[0;31m \u001b[0;32mimport\u001b[0m \u001b[0mdogpile\u001b[0m\u001b[0;34m.\u001b[0m\u001b[0mcache\u001b[0m\u001b[0;34m\u001b[0m\u001b[0m\n\u001b[0m",
      "\u001b[0;31mImportError\u001b[0m: No module named dogpile.cache"
     ]
    }
   ],
   "source": [
    "import dogpile.cache"
   ]
  },
  {
   "cell_type": "code",
   "execution_count": 377,
   "metadata": {
    "collapsed": false
   },
   "outputs": [],
   "source": [
    "# earl.to_pickle('1980to2002movie_data.pkl')\n",
    "# ok.to_pickle('2002to2016movie_data.pkl')\n",
    "# full.to_pickle('oscars.pkl')"
   ]
  },
  {
   "cell_type": "code",
   "execution_count": 223,
   "metadata": {
    "collapsed": false
   },
   "outputs": [
    {
     "data": {
      "text/html": [
       "<div>\n",
       "<table border=\"1\" class=\"dataframe\">\n",
       "  <thead>\n",
       "    <tr style=\"text-align: right;\">\n",
       "      <th></th>\n",
       "      <th>Rank</th>\n",
       "      <th>Movie Title</th>\n",
       "      <th>Studio</th>\n",
       "      <th>Total_Gross</th>\n",
       "      <th>Theaters</th>\n",
       "      <th>Opening</th>\n",
       "      <th>Theaters</th>\n",
       "      <th>Open</th>\n",
       "      <th>Year</th>\n",
       "    </tr>\n",
       "  </thead>\n",
       "  <tbody>\n",
       "    <tr>\n",
       "      <th>1</th>\n",
       "      <td>1</td>\n",
       "      <td>The Empire Strikes Back</td>\n",
       "      <td>Fox</td>\n",
       "      <td>$209,398,025</td>\n",
       "      <td>1278</td>\n",
       "      <td>$4,910,483</td>\n",
       "      <td>126</td>\n",
       "      <td>5/21</td>\n",
       "      <td>1980</td>\n",
       "    </tr>\n",
       "    <tr>\n",
       "      <th>2</th>\n",
       "      <td>2</td>\n",
       "      <td>9 to 5</td>\n",
       "      <td>Fox</td>\n",
       "      <td>$103,290,500</td>\n",
       "      <td>NaN</td>\n",
       "      <td>$3,966,832</td>\n",
       "      <td>910</td>\n",
       "      <td>12/19</td>\n",
       "      <td>1980</td>\n",
       "    </tr>\n",
       "    <tr>\n",
       "      <th>3</th>\n",
       "      <td>3</td>\n",
       "      <td>Stir Crazy</td>\n",
       "      <td>Col.</td>\n",
       "      <td>$101,300,000</td>\n",
       "      <td>NaN</td>\n",
       "      <td>$8,691,886</td>\n",
       "      <td>813</td>\n",
       "      <td>12/12</td>\n",
       "      <td>1980</td>\n",
       "    </tr>\n",
       "    <tr>\n",
       "      <th>4</th>\n",
       "      <td>4</td>\n",
       "      <td>Airplane!</td>\n",
       "      <td>Par.</td>\n",
       "      <td>$83,453,539</td>\n",
       "      <td>NaN</td>\n",
       "      <td>NaN</td>\n",
       "      <td>NaN</td>\n",
       "      <td>6/27</td>\n",
       "      <td>1980</td>\n",
       "    </tr>\n",
       "    <tr>\n",
       "      <th>5</th>\n",
       "      <td>5</td>\n",
       "      <td>Any Which Way You Can</td>\n",
       "      <td>WB</td>\n",
       "      <td>$70,687,344</td>\n",
       "      <td>NaN</td>\n",
       "      <td>$8,024,663</td>\n",
       "      <td>1541</td>\n",
       "      <td>12/17</td>\n",
       "      <td>1980</td>\n",
       "    </tr>\n",
       "  </tbody>\n",
       "</table>\n",
       "</div>"
      ],
      "text/plain": [
       "  Rank              Movie Title Studio   Total_Gross  Theaters     Opening  \\\n",
       "1    1  The Empire Strikes Back    Fox  $209,398,025      1278  $4,910,483   \n",
       "2    2                   9 to 5    Fox  $103,290,500       NaN  $3,966,832   \n",
       "3    3               Stir Crazy   Col.  $101,300,000       NaN  $8,691,886   \n",
       "4    4                Airplane!   Par.   $83,453,539       NaN         NaN   \n",
       "5    5    Any Which Way You Can     WB   $70,687,344       NaN  $8,024,663   \n",
       "\n",
       "   Theaters   Open  Year  \n",
       "1       126   5/21  1980  \n",
       "2       910  12/19  1980  \n",
       "3       813  12/12  1980  \n",
       "4       NaN   6/27  1980  \n",
       "5      1541  12/17  1980  "
      ]
     },
     "execution_count": 223,
     "metadata": {},
     "output_type": "execute_result"
    }
   ],
   "source": [
    "earl.head()"
   ]
  },
  {
   "cell_type": "code",
   "execution_count": 348,
   "metadata": {
    "collapsed": false
   },
   "outputs": [
    {
     "data": {
      "text/html": [
       "<div>\n",
       "<table border=\"1\" class=\"dataframe\">\n",
       "  <thead>\n",
       "    <tr style=\"text-align: right;\">\n",
       "      <th></th>\n",
       "      <th>Rank</th>\n",
       "      <th>Movie Title</th>\n",
       "      <th>Studio</th>\n",
       "      <th>Total_Gross</th>\n",
       "      <th>Theaters</th>\n",
       "      <th>Opening</th>\n",
       "      <th>Theaters</th>\n",
       "      <th>Open</th>\n",
       "      <th>Close</th>\n",
       "      <th>Year</th>\n",
       "    </tr>\n",
       "  </thead>\n",
       "  <tbody>\n",
       "    <tr>\n",
       "      <th>1</th>\n",
       "      <td>1</td>\n",
       "      <td>Spider-Man</td>\n",
       "      <td>Sony</td>\n",
       "      <td>$403,706,375</td>\n",
       "      <td>3876</td>\n",
       "      <td>$114,844,116</td>\n",
       "      <td>3615</td>\n",
       "      <td>5/3</td>\n",
       "      <td>8/18</td>\n",
       "      <td>2002</td>\n",
       "    </tr>\n",
       "    <tr>\n",
       "      <th>2</th>\n",
       "      <td>2</td>\n",
       "      <td>The Lord of the Rings: The Two Towers</td>\n",
       "      <td>NL</td>\n",
       "      <td>$339,789,881</td>\n",
       "      <td>3622</td>\n",
       "      <td>$62,007,528</td>\n",
       "      <td>3622</td>\n",
       "      <td>12/18</td>\n",
       "      <td>8/24</td>\n",
       "      <td>2002</td>\n",
       "    </tr>\n",
       "    <tr>\n",
       "      <th>3</th>\n",
       "      <td>3</td>\n",
       "      <td>Star Wars: Episode II - Attack of the Clones</td>\n",
       "      <td>Fox</td>\n",
       "      <td>$302,191,252</td>\n",
       "      <td>3161</td>\n",
       "      <td>$80,027,814</td>\n",
       "      <td>3161</td>\n",
       "      <td>5/16</td>\n",
       "      <td>11/3</td>\n",
       "      <td>2002</td>\n",
       "    </tr>\n",
       "    <tr>\n",
       "      <th>4</th>\n",
       "      <td>4</td>\n",
       "      <td>Harry Potter and the Chamber of Secrets</td>\n",
       "      <td>WB</td>\n",
       "      <td>$261,988,482</td>\n",
       "      <td>3682</td>\n",
       "      <td>$88,357,488</td>\n",
       "      <td>3682</td>\n",
       "      <td>11/15</td>\n",
       "      <td>5/4</td>\n",
       "      <td>2002</td>\n",
       "    </tr>\n",
       "    <tr>\n",
       "      <th>5</th>\n",
       "      <td>5</td>\n",
       "      <td>My Big Fat Greek Wedding</td>\n",
       "      <td>IFC</td>\n",
       "      <td>$241,438,208</td>\n",
       "      <td>2016</td>\n",
       "      <td>$597,362</td>\n",
       "      <td>108</td>\n",
       "      <td>4/19</td>\n",
       "      <td>4/13</td>\n",
       "      <td>2002</td>\n",
       "    </tr>\n",
       "  </tbody>\n",
       "</table>\n",
       "</div>"
      ],
      "text/plain": [
       "  Rank                                   Movie Title Studio   Total_Gross  \\\n",
       "1    1                                    Spider-Man   Sony  $403,706,375   \n",
       "2    2         The Lord of the Rings: The Two Towers     NL  $339,789,881   \n",
       "3    3  Star Wars: Episode II - Attack of the Clones    Fox  $302,191,252   \n",
       "4    4       Harry Potter and the Chamber of Secrets     WB  $261,988,482   \n",
       "5    5                      My Big Fat Greek Wedding    IFC  $241,438,208   \n",
       "\n",
       "  Theaters       Opening Theaters   Open Close  Year  \n",
       "1     3876  $114,844,116     3615    5/3  8/18  2002  \n",
       "2     3622   $62,007,528     3622  12/18  8/24  2002  \n",
       "3     3161   $80,027,814     3161   5/16  11/3  2002  \n",
       "4     3682   $88,357,488     3682  11/15   5/4  2002  \n",
       "5     2016      $597,362      108   4/19  4/13  2002  "
      ]
     },
     "execution_count": 348,
     "metadata": {},
     "output_type": "execute_result"
    }
   ],
   "source": [
    "ok.head()"
   ]
  },
  {
   "cell_type": "code",
   "execution_count": 356,
   "metadata": {
    "collapsed": false
   },
   "outputs": [],
   "source": [
    "oktitle = list(ok['Movie Title'].values)\n",
    "earltitle = list(earl['Movie Title'].values)"
   ]
  },
  {
   "cell_type": "code",
   "execution_count": 357,
   "metadata": {
    "collapsed": false
   },
   "outputs": [],
   "source": [
    "titless = oktitle+earltitle"
   ]
  },
  {
   "cell_type": "code",
   "execution_count": 362,
   "metadata": {
    "collapsed": false
   },
   "outputs": [],
   "source": [
    "TitleSeries = pd.Series(titless)"
   ]
  },
  {
   "cell_type": "code",
   "execution_count": 363,
   "metadata": {
    "collapsed": false
   },
   "outputs": [
    {
     "data": {
      "text/plain": [
       "0                                      Spider-Man\n",
       "1           The Lord of the Rings: The Two Towers\n",
       "2    Star Wars: Episode II - Attack of the Clones\n",
       "3         Harry Potter and the Chamber of Secrets\n",
       "4                        My Big Fat Greek Wedding\n",
       "dtype: object"
      ]
     },
     "execution_count": 363,
     "metadata": {},
     "output_type": "execute_result"
    }
   ],
   "source": []
  },
  {
   "cell_type": "code",
   "execution_count": 236,
   "metadata": {
    "collapsed": false
   },
   "outputs": [],
   "source": [
    "\"ftp://ftp.fu-berlin.de/pub/misc/movies/database/ratings.list.gz\"\n",
    "'/Users/ingrid/Desktop/METIS/Projects/Luther/movie_data/data/ratings.list.gz'\n",
    "import gzip\n",
    "import requests\n",
    "import requests_ftp\n",
    "# ratingsgz = requests.get(\"ftp://ftp.fu-berlin.de/pub/misc/movies/database/ratings.list.gz\")\n",
    "with gzip.open('/Users/ingrid/Desktop/METIS/Projects/Luther/movie_data/data/ratings.list.gz', 'rb') as f:\n",
    "    file_content = f.read()\n",
    "lines = file_content.split('\\n')"
   ]
  },
  {
   "cell_type": "code",
   "execution_count": 241,
   "metadata": {
    "collapsed": false
   },
   "outputs": [],
   "source": [
    "import os\n",
    "import sys\n",
    "import re\n",
    "import urllib\n",
    "import urlparse\n",
    "from mechanize import Browser\n",
    "from BeautifulSoup import BeautifulSoup"
   ]
  },
  {
   "cell_type": "code",
   "execution_count": 244,
   "metadata": {
    "collapsed": true
   },
   "outputs": [],
   "source": []
  },
  {
   "cell_type": "code",
   "execution_count": 11,
   "metadata": {
    "collapsed": false
   },
   "outputs": [
    {
     "name": "stdout",
     "output_type": "stream",
     "text": [
      "6.6\n",
      "184,526\n",
      " 61/100\n",
      "\n",
      "Ben Stiller\n",
      "['Drake Sather', 'Ben Stiller']\n",
      "('Comedy',)\n",
      "PG-13\n",
      "['Ben Stiller', 'Owen Wilson', 'Christine Taylor']\n"
     ]
    }
   ],
   "source": [
    "# title = \"The Empire Strikes Back\"\n",
    "title = \"Zoolander\"\n",
    "# title= \"gigoirjoij3goij\"\n",
    "BASE_URL = 'http://www.imdb.com'\n",
    "movie = '+'.join(title.split())\n",
    "url = \"%s/find?s=tt&q=%s\" % (BASE_URL, title)\n",
    "# print url\n",
    "movie_list = imdb_data(title)\n",
    "# page.cssselect('table'\n",
    "# movie_list = page.cssselect('table.findList tr td.result_text a')\n",
    "# display_html(html.tostring(page.cssselect('table.findList tr td.result_text')[0])\n",
    "# html.tostring(\n",
    "\n",
    "\n",
    "\n",
    "\n",
    "if len(movie_list) >0:\n",
    "    movie_link = movie_list[0].get('href')\n",
    "    movie_page_url = BASE_URL + movie_link\n",
    "    next_page = html.fromstring(requests.get(movie_page_url).text)\n",
    "#     display_html(html.tostring(next_page.cssselect('table div[class=star-box-details]')[0]))\n",
    "#     rating_css - \n",
    "\n",
    "    print next_page.cssselect('table div[class=star-box-details] span[itemprop=ratingValue]')[0].text_content()\n",
    "    print next_page.cssselect('table div[class=star-box-details] span[itemprop=ratingCount]')[0].text_content()\n",
    "    print next_page.cssselect('table div[class=star-box-details] a[href=\"criticreviews?ref_=tt_ov_rt\"]')[0].text_content()\n",
    "    print next_page.cssselect('table div[itemprop=\"director\"] span[itemprop=name]')[0].text_content()\n",
    "#     for name in next_page.cssselect('table div[itemprop=\"creator\"] span[itemprop=name]'):\n",
    "#         print name.text_content()\n",
    "    user_iterator = next_page.cssselect('table div[itemprop=\"creator\"] span[itemprop=name]')\n",
    "    user_list = [user.text_content() for user in user_iterator]\n",
    "    print user_list\n",
    "    genres = next_page.cssselect('table div[class=infobar] span[itemprop=\"genre\"]')\n",
    "    genre_list = tuple([genre.text_content() for genre in genres])\n",
    "    print genre_list\n",
    "    rating = next_page.cssselect('table div[class=infobar] meta')[0].get('content')\n",
    "    print rating\n",
    "\n",
    "    actors = next_page.cssselect('table div[itemprop=\"actors\"] span[itemprop=name]')\n",
    "    actor_list = [actor.text_content() for actor in actors]\n",
    "    print actor_list\n",
    "#     for name in next_page.cssselect('table div[itemprop=\"actors\"] span[itemprop=name]'):\n",
    "#         print name.text_content()\n",
    "\n",
    "columns=[\"IMDB_Score\",\"Users\",\"Metascore\",\"Director\",\"Writers\",\"Actors\"]\n",
    "\n",
    "#     display_html(html.tostring(next_page.cssselect('table div[itemprop=\"director\"]')[0]))\n",
    "#     display_html(html.tostring(next_page.cssselect('table div[itemprop=\"creator\"]')[0]))\n",
    "#     display_html(html.tostring(next_page.cssselect('table div[itemprop=\"actors\"] ')[0]))\n",
    "\n",
    "#     display_html(html.tostring(next_page.cssselect('table ')[0]))\n",
    "# div[itemprop=\"headline\"] \n",
    "    # imdb_rating(title)"
   ]
  },
  {
   "cell_type": "code",
   "execution_count": 9,
   "metadata": {
    "collapsed": false
   },
   "outputs": [],
   "source": [
    "# @cache.cache_on_arguments()\n",
    "def imdb_data(title):\n",
    "    BASE_URL = 'http://www.imdb.com'\n",
    "    movie = '+'.join(title.split())\n",
    "    url = \"%s/find?s=tt&q=%s\" % (BASE_URL, movie)\n",
    "    page = html.fromstring(requests.get(url).text)\n",
    "    movie_list = page.cssselect('table.findList tr td.result_text a')\n",
    "    return movie_list\n",
    "\n",
    "def imdb_page(movie_list):\n",
    "#     if len(movie_list) >0:\n",
    "    movie_link = movie_list[0].get('href')\n",
    "    movie_page_url = BASE_URL + movie_link\n",
    "    next_page = html.fromstring(requests.get(movie_page_url).text)\n",
    "    return next_page\n",
    "\n",
    "def imdb_pull(next_page):\n",
    "    imdb_rating = next_page.cssselect('table div[class=star-box-details] span[itemprop=ratingValue]')[0].text_content()\n",
    "    users = next_page.cssselect('table div[class=star-box-details] span[itemprop=ratingCount]')[0].text_content()\n",
    "    metascore = next_page.cssselect('table div[class=star-box-details] a[href=\"criticreviews?ref_=tt_ov_rt\"]')[0].text_content()\n",
    "    director = next_page.cssselect('table div[itemprop=\"director\"] span[itemprop=name]')[0].text_content()\n",
    "    \n",
    "    writers = next_page.cssselect('table div[itemprop=\"creator\"] span[itemprop=name]')\n",
    "    writer_list = tuple([writer.text_content() for writer in writers])\n",
    "    \n",
    "    actors = next_page.cssselect('table div[itemprop=\"actors\"] span[itemprop=name]')\n",
    "    actor_list = tuple([actor.text_content() for actor in actors])\n",
    "    return [imdb_rating, users, metascore, director, writer_list, actor_list]\n",
    "\n"
   ]
  },
  {
   "cell_type": "code",
   "execution_count": null,
   "metadata": {
    "collapsed": true
   },
   "outputs": [],
   "source": [
    "# titless\n",
    "title = \"Spider-man\"\n",
    "movie_list = imdb_data(title) \n",
    "if len(movie_list) > 0:\n",
    "    next_page = imdb_page(movie_list)\n",
    "    row = imdb_pull(next_page)"
   ]
  },
  {
   "cell_type": "code",
   "execution_count": 381,
   "metadata": {
    "collapsed": false
   },
   "outputs": [
    {
     "data": {
      "text/plain": [
       "13719"
      ]
     },
     "execution_count": 381,
     "metadata": {},
     "output_type": "execute_result"
    }
   ],
   "source": [
    "len(titless)"
   ]
  },
  {
   "cell_type": "code",
   "execution_count": 252,
   "metadata": {
    "collapsed": false
   },
   "outputs": [],
   "source": [
    "br.open(url)\n",
    "if re.search(r'/title/tt.*', br.geturl()):\n",
    "    aurl = \"%s://%s%s\" % urlparse.urlparse(br.geturl())[:3]\n",
    "    soup = BeautifulSoup( MyOpener().open(url).read() )"
   ]
  },
  {
   "cell_type": "code",
   "execution_count": 255,
   "metadata": {
    "collapsed": false
   },
   "outputs": [
    {
     "data": {
      "text/plain": [
       "'http://www.imdb.com/find?s=tt&q=The+Empire+Strikes+Back'"
      ]
     },
     "execution_count": 255,
     "metadata": {},
     "output_type": "execute_result"
    }
   ],
   "source": [
    "br.geturl()\n"
   ]
  },
  {
   "cell_type": "code",
   "execution_count": 246,
   "metadata": {
    "collapsed": false
   },
   "outputs": [
    {
     "data": {
      "text/plain": [
       "'The+Empire+Strikes+Back'"
      ]
     },
     "execution_count": 246,
     "metadata": {},
     "output_type": "execute_result"
    }
   ],
   "source": [
    "'+'.join(title.split())"
   ]
  },
  {
   "cell_type": "code",
   "execution_count": 384,
   "metadata": {
    "collapsed": false
   },
   "outputs": [
    {
     "data": {
      "text/plain": [
       "13719"
      ]
     },
     "execution_count": 384,
     "metadata": {},
     "output_type": "execute_result"
    }
   ],
   "source": [
    "len(TitleSeries)"
   ]
  },
  {
   "cell_type": "code",
   "execution_count": 417,
   "metadata": {
    "collapsed": false
   },
   "outputs": [],
   "source": [
    "columns=[\"IMDB_Score\",\"Users\",\"Metascore\",\"Director\",\"Writers\",\"Actors\"]\n",
    "dictionary = dict(zip(columns,row))\n",
    "imdb_df =pd.DataFrame(columns=columns) \n",
    "dictionary['Title'] = title\n",
    "imdb_df = imdb_df.append(dictionary, ignore_index=True)\n",
    "# imdb_df['Title'] = title\n",
    "# imdb_df.append({\"IMDB_Score\":row[0], \"Users\":row[1], \"Metascore\":row[2], \"Director\":row[3], \"Writers\":row[4], \"Actors\":row[5]}, ignore_index=True)\n",
    "# imdb_df.append(row, ignore_index=True)\n",
    "# dictionary = dict(zip(columns,row))\n",
    "# print dictionary\n",
    "# jwei = pd.DataFrame.from_dict(dictionary,orient='columns') \n",
    "# imdb_df.append(row)\n",
    "# row"
   ]
  },
  {
   "cell_type": "code",
   "execution_count": 415,
   "metadata": {
    "collapsed": false
   },
   "outputs": [
    {
     "data": {
      "text/html": [
       "<div>\n",
       "<table border=\"1\" class=\"dataframe\">\n",
       "  <thead>\n",
       "    <tr style=\"text-align: right;\">\n",
       "      <th></th>\n",
       "      <th>IMDB_Score</th>\n",
       "      <th>Users</th>\n",
       "      <th>Metascore</th>\n",
       "      <th>Director</th>\n",
       "      <th>Writers</th>\n",
       "      <th>Actors</th>\n",
       "      <th>Title</th>\n",
       "    </tr>\n",
       "  </thead>\n",
       "  <tbody>\n",
       "    <tr>\n",
       "      <th>0</th>\n",
       "      <td>7.3</td>\n",
       "      <td>515,967</td>\n",
       "      <td>73/100\\n</td>\n",
       "      <td>Sam Raimi</td>\n",
       "      <td>(Stan Lee, Steve Ditko)</td>\n",
       "      <td>(Tobey Maguire, Kirsten Dunst, Willem Dafoe)</td>\n",
       "      <td>Spider-man</td>\n",
       "    </tr>\n",
       "  </tbody>\n",
       "</table>\n",
       "</div>"
      ],
      "text/plain": [
       "  IMDB_Score    Users  Metascore   Director                  Writers  \\\n",
       "0        7.3  515,967   73/100\\n  Sam Raimi  (Stan Lee, Steve Ditko)   \n",
       "\n",
       "                                         Actors       Title  \n",
       "0  (Tobey Maguire, Kirsten Dunst, Willem Dafoe)  Spider-man  "
      ]
     },
     "execution_count": 415,
     "metadata": {},
     "output_type": "execute_result"
    }
   ],
   "source": [
    "imdb_df"
   ]
  },
  {
   "cell_type": "code",
   "execution_count": 400,
   "metadata": {
    "collapsed": false
   },
   "outputs": [
    {
     "data": {
      "text/plain": [
       "{'Actors': ('Tobey Maguire', 'Kirsten Dunst', 'Willem Dafoe'),\n",
       " 'Director': 'Sam Raimi',\n",
       " 'IMDB_Score': '7.3',\n",
       " 'Metascore': ' 73/100\\n',\n",
       " 'Users': '515,967',\n",
       " 'Writers': ('Stan Lee', 'Steve Ditko')}"
      ]
     },
     "execution_count": 400,
     "metadata": {},
     "output_type": "execute_result"
    }
   ],
   "source": [
    "dict(zip(columns,row))"
   ]
  },
  {
   "cell_type": "code",
   "execution_count": 346,
   "metadata": {
    "collapsed": false
   },
   "outputs": [],
   "source": [
    "# lines[0:6000]"
   ]
  },
  {
   "cell_type": "markdown",
   "metadata": {},
   "source": [
    "#### Step 3: Pickling - Store each page {and keep track of which pages have been pulled from}"
   ]
  },
  {
   "cell_type": "markdown",
   "metadata": {},
   "source": [
    "#### Step 4: BeautifulSoup - Pull HTML into database / table"
   ]
  },
  {
   "cell_type": "markdown",
   "metadata": {},
   "source": [
    "## WebScraping Alternatives \n",
    "    - Google Trends {searches} \n",
    "    - IMDB {review scores, oscar nominations, cast}\n",
    "    - Rotten Tomatoes {review scores}...\n",
    "    - Oscar nominations"
   ]
  },
  {
   "cell_type": "markdown",
   "metadata": {},
   "source": []
  },
  {
   "cell_type": "markdown",
   "metadata": {},
   "source": [
    "## Data Analysis - Exploratory\n",
    "1. Import\n",
    "2. Create Object\n",
    "3. fit the model\n",
    "4. predict"
   ]
  },
  {
   "cell_type": "markdown",
   "metadata": {},
   "source": [
    "### 1. Sklearn\n",
    "   reshape,fit_transform\n",
    "### 2. Statsmodels\n",
    "### 3. Scikit learn"
   ]
  },
  {
   "cell_type": "markdown",
   "metadata": {},
   "source": [
    "## Features \n",
    "##### how do we decide which ones to keep / modify to give better performance?"
   ]
  },
  {
   "cell_type": "markdown",
   "metadata": {},
   "source": [
    "##### 1: Movie Ratings vs # of Oscar nominations\n",
    "##### 2: Oscars vs # movies by director\n",
    "##### 3: Budget vs # Oscars | Profits vs # Oscars\n",
    "##### 4: Budget vs movie ratings {grouped by genre}\n",
    "##### 5: Budget vs year produced\n",
    "##### 6: Google trends vs Profits | Gross Income | Ratings vs Oscars\n",
    "##### 7: # Movies with CGI vs time \n",
    "##### 8: Location, Actors, Time of Year"
   ]
  },
  {
   "cell_type": "markdown",
   "metadata": {},
   "source": [
    "#### OSCAR NOMS ####"
   ]
  },
  {
   "cell_type": "markdown",
   "metadata": {},
   "source": [
    "##### http://www.boxofficemojo.com/oscar/chart/?yr=2015&view=allmovies&p=.htm ## change the yr= from 1980 to 2015 \n",
    "##### http://www.boxofficemojo.com/oscar/?sort=numnoms&order=DESC&p=.htm"
   ]
  },
  {
   "cell_type": "markdown",
   "metadata": {},
   "source": []
  },
  {
   "cell_type": "markdown",
   "metadata": {
    "collapsed": true
   },
   "source": [
    "# TOOLS :\n",
    "http://scikit-learn.org/stable/supervised_learning.html#supervised-learning"
   ]
  },
  {
   "cell_type": "code",
   "execution_count": null,
   "metadata": {
    "collapsed": false
   },
   "outputs": [],
   "source": [
    "from patsy import dmatrices\n",
    "import pandas as pd\n",
    "url = \"http://data.princeton.edu/wws509/datasets/salary.dat\"\n",
    "data = pd.read_csv(url, sep='\\s+')"
   ]
  },
  {
   "cell_type": "code",
   "execution_count": null,
   "metadata": {
    "collapsed": false
   },
   "outputs": [],
   "source": [
    "y, X = dmatrices('sl ~ sx + yr + rk', data=data, return_type='dataframe')"
   ]
  },
  {
   "cell_type": "code",
   "execution_count": null,
   "metadata": {
    "collapsed": false
   },
   "outputs": [],
   "source": [
    "X.head() ##creating dummy variables"
   ]
  },
  {
   "cell_type": "code",
   "execution_count": null,
   "metadata": {
    "collapsed": false
   },
   "outputs": [],
   "source": [
    "y.head()"
   ]
  },
  {
   "cell_type": "code",
   "execution_count": null,
   "metadata": {
    "collapsed": true
   },
   "outputs": [],
   "source": []
  }
 ],
 "metadata": {
  "kernelspec": {
   "display_name": "Python 2",
   "language": "python",
   "name": "python2"
  },
  "language_info": {
   "codemirror_mode": {
    "name": "ipython",
    "version": 2
   },
   "file_extension": ".py",
   "mimetype": "text/x-python",
   "name": "python",
   "nbconvert_exporter": "python",
   "pygments_lexer": "ipython2",
   "version": "2.7.11"
  }
 },
 "nbformat": 4,
 "nbformat_minor": 0
}
