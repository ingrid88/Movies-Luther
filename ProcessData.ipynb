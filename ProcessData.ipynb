{
 "cells": [
  {
   "cell_type": "code",
   "execution_count": 65,
   "metadata": {
    "collapsed": true
   },
   "outputs": [],
   "source": [
    "import pandas as pd\n",
    "import pickle"
   ]
  },
  {
   "cell_type": "markdown",
   "metadata": {},
   "source": []
  },
  {
   "cell_type": "code",
   "execution_count": 83,
   "metadata": {
    "collapsed": false
   },
   "outputs": [],
   "source": [
    "with open(\"imdb_t6.pkl\", 'r') as picklefile: \n",
    "    completed = pickle.load(picklefile)\n",
    "with open(\"imdb_2\", 'r') as picklefile: \n",
    "    completed2 = pickle.load(picklefile)"
   ]
  },
  {
   "cell_type": "code",
   "execution_count": 84,
   "metadata": {
    "collapsed": true
   },
   "outputs": [],
   "source": [
    "all_completed = pd.concat([completed, completed2], ignore_index=True)"
   ]
  },
  {
   "cell_type": "code",
   "execution_count": 85,
   "metadata": {
    "collapsed": true
   },
   "outputs": [],
   "source": [
    "all_completed.to_pickle('imdb_t6.pkl')"
   ]
  },
  {
   "cell_type": "markdown",
   "metadata": {},
   "source": [
    "## Merge Tables"
   ]
  },
  {
   "cell_type": "markdown",
   "metadata": {},
   "source": [
    "#### Oscars List\n",
    "1. { ['YRRank*', 'Picture (click to view)', 'Studio', 'Box Office', 'Noms', 'Wins', 'Year'] } \n",
    "2. 1265 entries\n",
    "\n",
    "#### Movie List \n",
    "1. { ['Rank', 'Movie Title', 'Studio', 'Total_Gross', 'Theaters', 'Opening', 'Theaters', 'Open', 'Close', 'Year'] } \n",
    "2. (2002-2016: 8338 entries, 1980-2002: 5381 entries)\n",
    "\n",
    "#### IMDB Ratings\n",
    "1. ['IMDB_Score','Users','Metascore','Director','Writers','Actors','Genres','Rating','Title']\n",
    "2. 7727 rows\n",
    "\n",
    "#### IMDB genre \n",
    "1. year, genres\n",
    "2. \n",
    "\n",
    "#### ClassMate Data\n",
    "1. [u'Unnamed: 0', u'Title', u'studio', u'TotalGross', u'Theatres',\n",
    "       u'Opening', u'OpenDate', u'OpenMonth', u'OpenDay', u'Cast3',\n",
    "       u'Released', u'Cast2', u'Cast1', u'Cast0', u'Writer', u'Director',\n",
    "       u'ID', u'imdbID', u'Year', u'Rating', u'Runtime', u'Genre', u'Cast',\n",
    "       u'Metacritic', u'imdbRating', u'imdbVotes', u'Poster', u'Plot',\n",
    "       u'FullPlot', u'Language', u'Country', u'Awards', u'lastUpdated',\n",
    "       u'Nominations', u'avg_imdbRating_Director', u'avg_imdbRating_Writer',\n",
    "       u'avg_imdbRating_Cast0', u'avg_imdbRating_Cast1',\n",
    "       u'avg_imdbRating_Cast2', u'avg_imdbRating_Cast3', u'datetime',\n",
    "       u'AdjTotalGross', u'AdjOpening', u'LogTotalGross', u'LogTheatres',\n",
    "       u'LogOpening'],\n",
    "      dtype='object')\n",
    "2. 3784 entries\n"
   ]
  },
  {
   "cell_type": "markdown",
   "metadata": {},
   "source": [
    "#### Merge Mojo Movie List Data "
   ]
  },
  {
   "cell_type": "code",
   "execution_count": 146,
   "metadata": {
    "collapsed": true
   },
   "outputs": [],
   "source": [
    "with open(\"2002to2016movie_data.pkl\", 'r') as picklefile: \n",
    "    m02_16 = pickle.load(picklefile)\n",
    "with open(\"1980to2002movie_data.pkl\", 'r') as picklefile: \n",
    "    m80_02 = pickle.load(picklefile)"
   ]
  },
  {
   "cell_type": "code",
   "execution_count": 151,
   "metadata": {
    "collapsed": false
   },
   "outputs": [],
   "source": [
    "m02_16 = m02_16.drop(\"Close_date\",axis=1)"
   ]
  },
  {
   "cell_type": "code",
   "execution_count": 152,
   "metadata": {
    "collapsed": false,
    "scrolled": true
   },
   "outputs": [],
   "source": [
    "## PIPELINE\n",
    "result = pd.concat([m02_16,m80_02])\n",
    "result.to_pickle('mojo_movies.pkl')"
   ]
  },
  {
   "cell_type": "markdown",
   "metadata": {},
   "source": [
    "#### Open_date to datetime Objects"
   ]
  },
  {
   "cell_type": "code",
   "execution_count": 162,
   "metadata": {
    "collapsed": false
   },
   "outputs": [],
   "source": [
    "result[\"Open\"] = result[\"Open_date\"] +\"/\"+ result[\"Year\"].map(str)\n",
    "result[\"Open\"] = pd.to_datetime(result.Open)\n",
    "result = result.drop('Open_date',axis=1)"
   ]
  },
  {
   "cell_type": "code",
   "execution_count": 164,
   "metadata": {
    "collapsed": false
   },
   "outputs": [
    {
     "data": {
      "text/html": [
       "<div>\n",
       "<table border=\"1\" class=\"dataframe\">\n",
       "  <thead>\n",
       "    <tr style=\"text-align: right;\">\n",
       "      <th></th>\n",
       "      <th>Rank</th>\n",
       "      <th>Title</th>\n",
       "      <th>Studio</th>\n",
       "      <th>Total_Gross</th>\n",
       "      <th>Gross_no_Theaters</th>\n",
       "      <th>Opening</th>\n",
       "      <th>Opening_no_Theaters</th>\n",
       "      <th>Year</th>\n",
       "      <th>Open</th>\n",
       "    </tr>\n",
       "  </thead>\n",
       "  <tbody>\n",
       "    <tr>\n",
       "      <th>1</th>\n",
       "      <td>1</td>\n",
       "      <td>Spider-Man</td>\n",
       "      <td>Sony</td>\n",
       "      <td>$403,706,375</td>\n",
       "      <td>3876</td>\n",
       "      <td>$114,844,116</td>\n",
       "      <td>3615</td>\n",
       "      <td>2002</td>\n",
       "      <td>2002-05-03</td>\n",
       "    </tr>\n",
       "    <tr>\n",
       "      <th>2</th>\n",
       "      <td>2</td>\n",
       "      <td>The Lord of the Rings: The Two Towers</td>\n",
       "      <td>NL</td>\n",
       "      <td>$339,789,881</td>\n",
       "      <td>3622</td>\n",
       "      <td>$62,007,528</td>\n",
       "      <td>3622</td>\n",
       "      <td>2002</td>\n",
       "      <td>2002-12-18</td>\n",
       "    </tr>\n",
       "    <tr>\n",
       "      <th>3</th>\n",
       "      <td>3</td>\n",
       "      <td>Star Wars: Episode II - Attack of the Clones</td>\n",
       "      <td>Fox</td>\n",
       "      <td>$302,191,252</td>\n",
       "      <td>3161</td>\n",
       "      <td>$80,027,814</td>\n",
       "      <td>3161</td>\n",
       "      <td>2002</td>\n",
       "      <td>2002-05-16</td>\n",
       "    </tr>\n",
       "    <tr>\n",
       "      <th>4</th>\n",
       "      <td>4</td>\n",
       "      <td>Harry Potter and the Chamber of Secrets</td>\n",
       "      <td>WB</td>\n",
       "      <td>$261,988,482</td>\n",
       "      <td>3682</td>\n",
       "      <td>$88,357,488</td>\n",
       "      <td>3682</td>\n",
       "      <td>2002</td>\n",
       "      <td>2002-11-15</td>\n",
       "    </tr>\n",
       "    <tr>\n",
       "      <th>5</th>\n",
       "      <td>5</td>\n",
       "      <td>My Big Fat Greek Wedding</td>\n",
       "      <td>IFC</td>\n",
       "      <td>$241,438,208</td>\n",
       "      <td>2016</td>\n",
       "      <td>$597,362</td>\n",
       "      <td>108</td>\n",
       "      <td>2002</td>\n",
       "      <td>2002-04-19</td>\n",
       "    </tr>\n",
       "  </tbody>\n",
       "</table>\n",
       "</div>"
      ],
      "text/plain": [
       "  Rank                                         Title Studio   Total_Gross  \\\n",
       "1    1                                    Spider-Man   Sony  $403,706,375   \n",
       "2    2         The Lord of the Rings: The Two Towers     NL  $339,789,881   \n",
       "3    3  Star Wars: Episode II - Attack of the Clones    Fox  $302,191,252   \n",
       "4    4       Harry Potter and the Chamber of Secrets     WB  $261,988,482   \n",
       "5    5                      My Big Fat Greek Wedding    IFC  $241,438,208   \n",
       "\n",
       "  Gross_no_Theaters       Opening Opening_no_Theaters  Year       Open  \n",
       "1              3876  $114,844,116                3615  2002 2002-05-03  \n",
       "2              3622   $62,007,528                3622  2002 2002-12-18  \n",
       "3              3161   $80,027,814                3161  2002 2002-05-16  \n",
       "4              3682   $88,357,488                3682  2002 2002-11-15  \n",
       "5              2016      $597,362                 108  2002 2002-04-19  "
      ]
     },
     "execution_count": 164,
     "metadata": {},
     "output_type": "execute_result"
    }
   ],
   "source": [
    "result.head()"
   ]
  },
  {
   "cell_type": "markdown",
   "metadata": {},
   "source": [
    "#### Dollar amounts to numbers"
   ]
  },
  {
   "cell_type": "code",
   "execution_count": 166,
   "metadata": {
    "collapsed": false
   },
   "outputs": [],
   "source": [
    "result[\"Opening\"] = result[\"Opening\"].str.replace('$','').str.replace(',','')\n",
    "result[\"Total_Gross\"] = result[\"Total_Gross\"].str.replace('$','').str.replace(',','')"
   ]
  },
  {
   "cell_type": "code",
   "execution_count": 167,
   "metadata": {
    "collapsed": false
   },
   "outputs": [],
   "source": [
    "result.Opening = pd.to_numeric(result.Opening, errors='ignore')\n",
    "result.Total_Gross = pd.to_numeric(result.Total_Gross, errors='ignore')\n",
    "result.Opening_no_Theaters = pd.to_numeric(result.Opening_no_Theaters, errors='ignore')\n",
    "result.Gross_no_Theaters = pd.to_numeric(result.Gross_no_Theaters, errors='ignore')\n",
    "\n",
    "# type(result.Opening.values[0])\n",
    "# type(result.Total_Gross.values[0])"
   ]
  },
  {
   "cell_type": "code",
   "execution_count": 168,
   "metadata": {
    "collapsed": true
   },
   "outputs": [],
   "source": [
    "result.to_pickle('processedMojo.pkl')"
   ]
  },
  {
   "cell_type": "markdown",
   "metadata": {},
   "source": [
    "#### Oscar Data Processing"
   ]
  },
  {
   "cell_type": "code",
   "execution_count": 175,
   "metadata": {
    "collapsed": true
   },
   "outputs": [],
   "source": [
    "with open(\"oscars.pkl\", 'r') as picklefile: \n",
    "    oscars = pickle.load(picklefile)"
   ]
  },
  {
   "cell_type": "code",
   "execution_count": 177,
   "metadata": {
    "collapsed": true
   },
   "outputs": [],
   "source": [
    "oscars.columns = [\"YrRank\",\"Title\",\"Studio\",\"Box_Office\",\"Noms\",\"Wins\",\"Year\"] \n",
    "oscars[\"Box_Office\"] = oscars[\"Box_Office\"].str.replace('$','').str.replace(',','')\n",
    "oscars[\"Box_Office\"] = pd.to_numeric(oscars[\"Box_Office\"], errors='ignore')\n",
    "oscars[\"Wins\"] = pd.to_numeric(oscars[\"Wins\"], errors='ignore')\n",
    "oscars[\"Noms\"] = pd.to_numeric(oscars[\"Noms\"], errors='ignore')\n",
    "oscars[\"YrRank\"] = pd.to_numeric(oscars[\"YrRank\"], errors='ignore')"
   ]
  },
  {
   "cell_type": "code",
   "execution_count": 188,
   "metadata": {
    "collapsed": true
   },
   "outputs": [],
   "source": [
    "oscars.to_pickle('oscars.pkl')"
   ]
  },
  {
   "cell_type": "code",
   "execution_count": 178,
   "metadata": {
    "collapsed": false
   },
   "outputs": [
    {
     "data": {
      "text/html": [
       "<div>\n",
       "<table border=\"1\" class=\"dataframe\">\n",
       "  <thead>\n",
       "    <tr style=\"text-align: right;\">\n",
       "      <th></th>\n",
       "      <th>YrRank</th>\n",
       "      <th>Title</th>\n",
       "      <th>Studio</th>\n",
       "      <th>Box_Office</th>\n",
       "      <th>Noms</th>\n",
       "      <th>Wins</th>\n",
       "      <th>Year</th>\n",
       "    </tr>\n",
       "  </thead>\n",
       "  <tbody>\n",
       "    <tr>\n",
       "      <th>0</th>\n",
       "      <td>11</td>\n",
       "      <td>Ordinary People</td>\n",
       "      <td>Par.</td>\n",
       "      <td>54766923</td>\n",
       "      <td>7</td>\n",
       "      <td>4</td>\n",
       "      <td>1980</td>\n",
       "    </tr>\n",
       "    <tr>\n",
       "      <th>1</th>\n",
       "      <td>33</td>\n",
       "      <td>Tess</td>\n",
       "      <td>Col.</td>\n",
       "      <td>20093330</td>\n",
       "      <td>6</td>\n",
       "      <td>3</td>\n",
       "      <td>1980</td>\n",
       "    </tr>\n",
       "    <tr>\n",
       "      <th>2</th>\n",
       "      <td>27</td>\n",
       "      <td>Raging Bull</td>\n",
       "      <td>MGM</td>\n",
       "      <td>23334953</td>\n",
       "      <td>8</td>\n",
       "      <td>2</td>\n",
       "      <td>1980</td>\n",
       "    </tr>\n",
       "    <tr>\n",
       "      <th>3</th>\n",
       "      <td>32</td>\n",
       "      <td>Fame (1980)</td>\n",
       "      <td>MGM</td>\n",
       "      <td>21202829</td>\n",
       "      <td>6</td>\n",
       "      <td>2</td>\n",
       "      <td>1980</td>\n",
       "    </tr>\n",
       "    <tr>\n",
       "      <th>4</th>\n",
       "      <td>86</td>\n",
       "      <td>Melvin and Howard</td>\n",
       "      <td>Uni.</td>\n",
       "      <td>4309490</td>\n",
       "      <td>3</td>\n",
       "      <td>2</td>\n",
       "      <td>1980</td>\n",
       "    </tr>\n",
       "  </tbody>\n",
       "</table>\n",
       "</div>"
      ],
      "text/plain": [
       "   YrRank              Title Studio  Box_Office  Noms  Wins  Year\n",
       "0      11    Ordinary People   Par.    54766923     7     4  1980\n",
       "1      33               Tess   Col.    20093330     6     3  1980\n",
       "2      27        Raging Bull    MGM    23334953     8     2  1980\n",
       "3      32        Fame (1980)    MGM    21202829     6     2  1980\n",
       "4      86  Melvin and Howard   Uni.     4309490     3     2  1980"
      ]
     },
     "execution_count": 178,
     "metadata": {},
     "output_type": "execute_result"
    }
   ],
   "source": [
    "oscars.head()"
   ]
  },
  {
   "cell_type": "code",
   "execution_count": null,
   "metadata": {
    "collapsed": true
   },
   "outputs": [],
   "source": []
  },
  {
   "cell_type": "code",
   "execution_count": null,
   "metadata": {
    "collapsed": true
   },
   "outputs": [],
   "source": []
  },
  {
   "cell_type": "code",
   "execution_count": null,
   "metadata": {
    "collapsed": true
   },
   "outputs": [],
   "source": []
  },
  {
   "cell_type": "markdown",
   "metadata": {},
   "source": [
    "#### IMDB Data Processing"
   ]
  },
  {
   "cell_type": "code",
   "execution_count": null,
   "metadata": {
    "collapsed": false
   },
   "outputs": [],
   "source": []
  },
  {
   "cell_type": "code",
   "execution_count": null,
   "metadata": {
    "collapsed": true
   },
   "outputs": [],
   "source": []
  },
  {
   "cell_type": "code",
   "execution_count": 182,
   "metadata": {
    "collapsed": true
   },
   "outputs": [],
   "source": [
    "all_completed[\"IMDB_Score\"] = pd.to_numeric(all_completed[\"IMDB_Score\"], errors='ignore')\n",
    "all_completed[\"Users\"] = all_completed[\"Users\"].str.replace(',','')\n",
    "all_completed[\"Users\"] = pd.to_numeric(all_completed[\"Users\"])"
   ]
  },
  {
   "cell_type": "code",
   "execution_count": 184,
   "metadata": {
    "collapsed": true
   },
   "outputs": [],
   "source": [
    "all_completed[\"Metascore\"] = all_completed[\"Metascore\"].str.replace('/100\\n','')\n",
    "all_completed[\"Metascore\"] = pd.to_numeric(all_completed[\"Metascore\"])"
   ]
  },
  {
   "cell_type": "code",
   "execution_count": 185,
   "metadata": {
    "collapsed": false
   },
   "outputs": [
    {
     "data": {
      "text/html": [
       "<div>\n",
       "<table border=\"1\" class=\"dataframe\">\n",
       "  <thead>\n",
       "    <tr style=\"text-align: right;\">\n",
       "      <th></th>\n",
       "      <th>IMDB_Score</th>\n",
       "      <th>Users</th>\n",
       "      <th>Metascore</th>\n",
       "      <th>Director</th>\n",
       "      <th>Writers</th>\n",
       "      <th>Actors</th>\n",
       "      <th>Genres</th>\n",
       "      <th>Rating</th>\n",
       "      <th>Title</th>\n",
       "    </tr>\n",
       "  </thead>\n",
       "  <tbody>\n",
       "    <tr>\n",
       "      <th>0</th>\n",
       "      <td>7.3</td>\n",
       "      <td>516078</td>\n",
       "      <td>73</td>\n",
       "      <td>Sam Raimi</td>\n",
       "      <td>(Stan Lee, Steve Ditko)</td>\n",
       "      <td>(Tobey Maguire, Kirsten Dunst, Willem Dafoe)</td>\n",
       "      <td>(Action, Adventure)</td>\n",
       "      <td>PG-13</td>\n",
       "      <td>Spider-Man</td>\n",
       "    </tr>\n",
       "    <tr>\n",
       "      <th>1</th>\n",
       "      <td>8.7</td>\n",
       "      <td>1037342</td>\n",
       "      <td>88</td>\n",
       "      <td>Peter Jackson</td>\n",
       "      <td>(J.R.R. Tolkien, Fran Walsh)</td>\n",
       "      <td>(Elijah Wood, Ian McKellen, Viggo Mortensen)</td>\n",
       "      <td>(Adventure, Drama, Fantasy)</td>\n",
       "      <td>PG-13</td>\n",
       "      <td>The Lord of the Rings: The Two Towers</td>\n",
       "    </tr>\n",
       "    <tr>\n",
       "      <th>2</th>\n",
       "      <td>6.7</td>\n",
       "      <td>437662</td>\n",
       "      <td>54</td>\n",
       "      <td>George Lucas</td>\n",
       "      <td>(George Lucas, Jonathan Hales)</td>\n",
       "      <td>(Hayden Christensen, Natalie Portman, Ewan McG...</td>\n",
       "      <td>(Action, Adventure, Fantasy)</td>\n",
       "      <td>PG</td>\n",
       "      <td>Star Wars: Episode II - Attack of the Clones</td>\n",
       "    </tr>\n",
       "    <tr>\n",
       "      <th>3</th>\n",
       "      <td>7.4</td>\n",
       "      <td>366162</td>\n",
       "      <td>63</td>\n",
       "      <td>Chris Columbus</td>\n",
       "      <td>(J.K. Rowling, Steve Kloves)</td>\n",
       "      <td>(Daniel Radcliffe, Rupert Grint, Emma Watson)</td>\n",
       "      <td>(Adventure, Family, Fantasy)</td>\n",
       "      <td>PG</td>\n",
       "      <td>Harry Potter and the Chamber of Secrets</td>\n",
       "    </tr>\n",
       "    <tr>\n",
       "      <th>4</th>\n",
       "      <td>6.7</td>\n",
       "      <td>262736</td>\n",
       "      <td>59</td>\n",
       "      <td>M. Night Shyamalan</td>\n",
       "      <td>(M. Night Shyamalan,)</td>\n",
       "      <td>(Mel Gibson, Joaquin Phoenix, Rory Culkin)</td>\n",
       "      <td>(Drama, Sci-Fi, Thriller)</td>\n",
       "      <td>PG-13</td>\n",
       "      <td>Signs</td>\n",
       "    </tr>\n",
       "  </tbody>\n",
       "</table>\n",
       "</div>"
      ],
      "text/plain": [
       "   IMDB_Score    Users  Metascore            Director  \\\n",
       "0         7.3   516078         73           Sam Raimi   \n",
       "1         8.7  1037342         88       Peter Jackson   \n",
       "2         6.7   437662         54        George Lucas   \n",
       "3         7.4   366162         63      Chris Columbus   \n",
       "4         6.7   262736         59  M. Night Shyamalan   \n",
       "\n",
       "                          Writers  \\\n",
       "0         (Stan Lee, Steve Ditko)   \n",
       "1    (J.R.R. Tolkien, Fran Walsh)   \n",
       "2  (George Lucas, Jonathan Hales)   \n",
       "3    (J.K. Rowling, Steve Kloves)   \n",
       "4           (M. Night Shyamalan,)   \n",
       "\n",
       "                                              Actors  \\\n",
       "0       (Tobey Maguire, Kirsten Dunst, Willem Dafoe)   \n",
       "1       (Elijah Wood, Ian McKellen, Viggo Mortensen)   \n",
       "2  (Hayden Christensen, Natalie Portman, Ewan McG...   \n",
       "3      (Daniel Radcliffe, Rupert Grint, Emma Watson)   \n",
       "4         (Mel Gibson, Joaquin Phoenix, Rory Culkin)   \n",
       "\n",
       "                         Genres Rating  \\\n",
       "0           (Action, Adventure)  PG-13   \n",
       "1   (Adventure, Drama, Fantasy)  PG-13   \n",
       "2  (Action, Adventure, Fantasy)     PG   \n",
       "3  (Adventure, Family, Fantasy)     PG   \n",
       "4     (Drama, Sci-Fi, Thriller)  PG-13   \n",
       "\n",
       "                                          Title  \n",
       "0                                    Spider-Man  \n",
       "1         The Lord of the Rings: The Two Towers  \n",
       "2  Star Wars: Episode II - Attack of the Clones  \n",
       "3       Harry Potter and the Chamber of Secrets  \n",
       "4                                         Signs  "
      ]
     },
     "execution_count": 185,
     "metadata": {},
     "output_type": "execute_result"
    }
   ],
   "source": [
    "all_completed.head()"
   ]
  },
  {
   "cell_type": "code",
   "execution_count": 189,
   "metadata": {
    "collapsed": false
   },
   "outputs": [],
   "source": [
    "all_completed.to_pickle('imdb.pkl')"
   ]
  },
  {
   "cell_type": "code",
   "execution_count": 186,
   "metadata": {
    "collapsed": true
   },
   "outputs": [],
   "source": [
    "# with open(\"imdb_failed_movies.pkl\", 'r') as picklefile: \n",
    "#     failed_movies = pickle.load(picklefile)"
   ]
  },
  {
   "cell_type": "code",
   "execution_count": 113,
   "metadata": {
    "collapsed": false
   },
   "outputs": [
    {
     "data": {
      "text/html": [
       "<div>\n",
       "<table border=\"1\" class=\"dataframe\">\n",
       "  <thead>\n",
       "    <tr style=\"text-align: right;\">\n",
       "      <th></th>\n",
       "      <th>Gross_no_Theaters</th>\n",
       "      <th>Opening</th>\n",
       "      <th>Opening_no_Theaters</th>\n",
       "      <th>Total_Gross</th>\n",
       "      <th>Year</th>\n",
       "    </tr>\n",
       "  </thead>\n",
       "  <tbody>\n",
       "    <tr>\n",
       "      <th>Gross_no_Theaters</th>\n",
       "      <td>1.000000</td>\n",
       "      <td>0.711870</td>\n",
       "      <td>0.967296</td>\n",
       "      <td>0.706586</td>\n",
       "      <td>-0.076795</td>\n",
       "    </tr>\n",
       "    <tr>\n",
       "      <th>Opening</th>\n",
       "      <td>0.711870</td>\n",
       "      <td>1.000000</td>\n",
       "      <td>0.725978</td>\n",
       "      <td>0.890424</td>\n",
       "      <td>0.055142</td>\n",
       "    </tr>\n",
       "    <tr>\n",
       "      <th>Opening_no_Theaters</th>\n",
       "      <td>0.967296</td>\n",
       "      <td>0.725978</td>\n",
       "      <td>1.000000</td>\n",
       "      <td>0.658243</td>\n",
       "      <td>-0.050572</td>\n",
       "    </tr>\n",
       "    <tr>\n",
       "      <th>Total_Gross</th>\n",
       "      <td>0.706586</td>\n",
       "      <td>0.890424</td>\n",
       "      <td>0.658243</td>\n",
       "      <td>1.000000</td>\n",
       "      <td>-0.018419</td>\n",
       "    </tr>\n",
       "    <tr>\n",
       "      <th>Year</th>\n",
       "      <td>-0.076795</td>\n",
       "      <td>0.055142</td>\n",
       "      <td>-0.050572</td>\n",
       "      <td>-0.018419</td>\n",
       "      <td>1.000000</td>\n",
       "    </tr>\n",
       "  </tbody>\n",
       "</table>\n",
       "</div>"
      ],
      "text/plain": [
       "                     Gross_no_Theaters   Opening  Opening_no_Theaters  \\\n",
       "Gross_no_Theaters             1.000000  0.711870             0.967296   \n",
       "Opening                       0.711870  1.000000             0.725978   \n",
       "Opening_no_Theaters           0.967296  0.725978             1.000000   \n",
       "Total_Gross                   0.706586  0.890424             0.658243   \n",
       "Year                         -0.076795  0.055142            -0.050572   \n",
       "\n",
       "                     Total_Gross      Year  \n",
       "Gross_no_Theaters       0.706586 -0.076795  \n",
       "Opening                 0.890424  0.055142  \n",
       "Opening_no_Theaters     0.658243 -0.050572  \n",
       "Total_Gross             1.000000 -0.018419  \n",
       "Year                   -0.018419  1.000000  "
      ]
     },
     "execution_count": 113,
     "metadata": {},
     "output_type": "execute_result"
    }
   ],
   "source": [
    "result.corr()"
   ]
  },
  {
   "cell_type": "code",
   "execution_count": 115,
   "metadata": {
    "collapsed": false
   },
   "outputs": [
    {
     "data": {
      "text/plain": [
       "0.96729644014157723"
      ]
     },
     "execution_count": 115,
     "metadata": {},
     "output_type": "execute_result"
    }
   ],
   "source": [
    "result.Gross_no_Theaters.corr(result.Opening_no_Theaters)"
   ]
  },
  {
   "cell_type": "code",
   "execution_count": null,
   "metadata": {
    "collapsed": true
   },
   "outputs": [],
   "source": []
  }
 ],
 "metadata": {
  "kernelspec": {
   "display_name": "Python 2",
   "language": "python",
   "name": "python2"
  },
  "language_info": {
   "codemirror_mode": {
    "name": "ipython",
    "version": 2
   },
   "file_extension": ".py",
   "mimetype": "text/x-python",
   "name": "python",
   "nbconvert_exporter": "python",
   "pygments_lexer": "ipython2",
   "version": "2.7.11"
  }
 },
 "nbformat": 4,
 "nbformat_minor": 0
}
