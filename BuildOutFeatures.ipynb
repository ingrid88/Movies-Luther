{
 "cells": [
  {
   "cell_type": "code",
   "execution_count": 20,
   "metadata": {
    "collapsed": true
   },
   "outputs": [],
   "source": [
    "%matplotlib inline\n",
    "import matplotlib.pyplot as plt\n",
    "\n",
    "import pickle\n",
    "import numpy as np\n",
    "import pandas as pd"
   ]
  },
  {
   "cell_type": "code",
   "execution_count": 262,
   "metadata": {
    "collapsed": true
   },
   "outputs": [],
   "source": [
    "with open(\"budget_mojo_imdb.pkl\", 'r') as picklefile: \n",
    "    data = pickle.load(picklefile)"
   ]
  },
  {
   "cell_type": "code",
   "execution_count": 502,
   "metadata": {
    "collapsed": false
   },
   "outputs": [
    {
     "data": {
      "text/html": [
       "<div>\n",
       "<table border=\"1\" class=\"dataframe\">\n",
       "  <thead>\n",
       "    <tr style=\"text-align: right;\">\n",
       "      <th></th>\n",
       "      <th>Title</th>\n",
       "      <th>Genres</th>\n",
       "    </tr>\n",
       "  </thead>\n",
       "  <tbody>\n",
       "    <tr>\n",
       "      <th>0</th>\n",
       "      <td>Avatar</td>\n",
       "      <td>(Action, Adventure, Fantasy)</td>\n",
       "    </tr>\n",
       "    <tr>\n",
       "      <th>1</th>\n",
       "      <td>Pirates of the Caribbean: At World's End</td>\n",
       "      <td>(Action, Adventure, Fantasy)</td>\n",
       "    </tr>\n",
       "    <tr>\n",
       "      <th>2</th>\n",
       "      <td>Spectre</td>\n",
       "      <td>(Action, Adventure, Thriller)</td>\n",
       "    </tr>\n",
       "    <tr>\n",
       "      <th>3</th>\n",
       "      <td>The Dark Knight Rises</td>\n",
       "      <td>(Action, Thriller)</td>\n",
       "    </tr>\n",
       "    <tr>\n",
       "      <th>4</th>\n",
       "      <td>The Lone Ranger</td>\n",
       "      <td>(Action, Adventure, Western)</td>\n",
       "    </tr>\n",
       "    <tr>\n",
       "      <th>5</th>\n",
       "      <td>John Carter</td>\n",
       "      <td>(Action, Adventure, Fantasy)</td>\n",
       "    </tr>\n",
       "    <tr>\n",
       "      <th>6</th>\n",
       "      <td>Tangled</td>\n",
       "      <td>(Animation, Adventure, Comedy)</td>\n",
       "    </tr>\n",
       "    <tr>\n",
       "      <th>7</th>\n",
       "      <td>Spider-Man 3</td>\n",
       "      <td>(Action, Adventure)</td>\n",
       "    </tr>\n",
       "    <tr>\n",
       "      <th>8</th>\n",
       "      <td>The Hobbit: An Unexpected Journey</td>\n",
       "      <td>(Adventure, Fantasy)</td>\n",
       "    </tr>\n",
       "    <tr>\n",
       "      <th>9</th>\n",
       "      <td>Harry Potter and the Half-Blood Prince</td>\n",
       "      <td>(Adventure, Family, Fantasy)</td>\n",
       "    </tr>\n",
       "    <tr>\n",
       "      <th>10</th>\n",
       "      <td>The Hobbit: The Desolation of Smaug</td>\n",
       "      <td>(Adventure, Fantasy)</td>\n",
       "    </tr>\n",
       "    <tr>\n",
       "      <th>11</th>\n",
       "      <td>The Hobbit: The Battle of the Five Armies</td>\n",
       "      <td>(Adventure, Fantasy)</td>\n",
       "    </tr>\n",
       "    <tr>\n",
       "      <th>12</th>\n",
       "      <td>Pirates of the Caribbean: On Stranger Tides</td>\n",
       "      <td>(Action, Adventure, Fantasy)</td>\n",
       "    </tr>\n",
       "    <tr>\n",
       "      <th>13</th>\n",
       "      <td>Superman Returns</td>\n",
       "      <td>(Action, Adventure, Fantasy)</td>\n",
       "    </tr>\n",
       "    <tr>\n",
       "      <th>14</th>\n",
       "      <td>Quantum of Solace</td>\n",
       "      <td>(Action, Adventure)</td>\n",
       "    </tr>\n",
       "    <tr>\n",
       "      <th>15</th>\n",
       "      <td>Pirates of the Caribbean: Dead Man's Chest</td>\n",
       "      <td>(Action, Adventure, Fantasy)</td>\n",
       "    </tr>\n",
       "    <tr>\n",
       "      <th>16</th>\n",
       "      <td>Man of Steel</td>\n",
       "      <td>(Action, Adventure, Fantasy)</td>\n",
       "    </tr>\n",
       "    <tr>\n",
       "      <th>17</th>\n",
       "      <td>The Chronicles of Narnia: Prince Caspian</td>\n",
       "      <td>(Action, Adventure, Family)</td>\n",
       "    </tr>\n",
       "    <tr>\n",
       "      <th>18</th>\n",
       "      <td>The Amazing Spider-Man</td>\n",
       "      <td>(Action, Adventure, Fantasy)</td>\n",
       "    </tr>\n",
       "    <tr>\n",
       "      <th>19</th>\n",
       "      <td>Jurassic World</td>\n",
       "      <td>(Action, Adventure, Sci-Fi)</td>\n",
       "    </tr>\n",
       "    <tr>\n",
       "      <th>20</th>\n",
       "      <td>Transformers: Revenge of the Fallen</td>\n",
       "      <td>(Action, Adventure, Sci-Fi)</td>\n",
       "    </tr>\n",
       "    <tr>\n",
       "      <th>21</th>\n",
       "      <td>Transformers: Age of Extinction</td>\n",
       "      <td>(Action, Adventure, Sci-Fi)</td>\n",
       "    </tr>\n",
       "    <tr>\n",
       "      <th>22</th>\n",
       "      <td>X-Men: The Last Stand</td>\n",
       "      <td>(Action, Adventure, Sci-Fi)</td>\n",
       "    </tr>\n",
       "    <tr>\n",
       "      <th>23</th>\n",
       "      <td>Robin Hood</td>\n",
       "      <td>(Action, Adventure, Drama)</td>\n",
       "    </tr>\n",
       "    <tr>\n",
       "      <th>24</th>\n",
       "      <td>Battleship</td>\n",
       "      <td>(Action, Adventure, Sci-Fi)</td>\n",
       "    </tr>\n",
       "    <tr>\n",
       "      <th>25</th>\n",
       "      <td>King Kong</td>\n",
       "      <td>(Action, Adventure, Drama)</td>\n",
       "    </tr>\n",
       "    <tr>\n",
       "      <th>26</th>\n",
       "      <td>King Kong</td>\n",
       "      <td>(Action, Adventure, Drama)</td>\n",
       "    </tr>\n",
       "    <tr>\n",
       "      <th>27</th>\n",
       "      <td>King Kong</td>\n",
       "      <td>(Action, Adventure, Drama)</td>\n",
       "    </tr>\n",
       "    <tr>\n",
       "      <th>28</th>\n",
       "      <td>The Golden Compass</td>\n",
       "      <td>(Adventure, Family, Fantasy)</td>\n",
       "    </tr>\n",
       "    <tr>\n",
       "      <th>29</th>\n",
       "      <td>Titanic</td>\n",
       "      <td>(Drama, Romance)</td>\n",
       "    </tr>\n",
       "    <tr>\n",
       "      <th>...</th>\n",
       "      <td>...</td>\n",
       "      <td>...</td>\n",
       "    </tr>\n",
       "    <tr>\n",
       "      <th>3121</th>\n",
       "      <td>The Lost Skeleton of Cadavra</td>\n",
       "      <td>(Comedy, Horror, Sci-Fi)</td>\n",
       "    </tr>\n",
       "    <tr>\n",
       "      <th>3122</th>\n",
       "      <td>Cheap Thrills</td>\n",
       "      <td>(Comedy, Crime, Drama)</td>\n",
       "    </tr>\n",
       "    <tr>\n",
       "      <th>3123</th>\n",
       "      <td>Happy Christmas</td>\n",
       "      <td>(Comedy, Drama)</td>\n",
       "    </tr>\n",
       "    <tr>\n",
       "      <th>3124</th>\n",
       "      <td>Peace, Propaganda and the Promised Land</td>\n",
       "      <td>(Documentary,)</td>\n",
       "    </tr>\n",
       "    <tr>\n",
       "      <th>3125</th>\n",
       "      <td>Pi</td>\n",
       "      <td>(Drama, Thriller)</td>\n",
       "    </tr>\n",
       "    <tr>\n",
       "      <th>3126</th>\n",
       "      <td>20 Dates</td>\n",
       "      <td>(Biography, Comedy, Romance)</td>\n",
       "    </tr>\n",
       "    <tr>\n",
       "      <th>3127</th>\n",
       "      <td>Super Size Me</td>\n",
       "      <td>(Documentary, Comedy, Drama)</td>\n",
       "    </tr>\n",
       "    <tr>\n",
       "      <th>3128</th>\n",
       "      <td>The Blair Witch Project</td>\n",
       "      <td>(Horror,)</td>\n",
       "    </tr>\n",
       "    <tr>\n",
       "      <th>3129</th>\n",
       "      <td>Supporting Characters</td>\n",
       "      <td>(Comedy,)</td>\n",
       "    </tr>\n",
       "    <tr>\n",
       "      <th>3130</th>\n",
       "      <td>The FP</td>\n",
       "      <td>(Action, Adventure, Fantasy)</td>\n",
       "    </tr>\n",
       "    <tr>\n",
       "      <th>3131</th>\n",
       "      <td>The Brothers McMullen</td>\n",
       "      <td>(Comedy, Drama, Romance)</td>\n",
       "    </tr>\n",
       "    <tr>\n",
       "      <th>3132</th>\n",
       "      <td>Tiny Furniture</td>\n",
       "      <td>(Comedy, Drama)</td>\n",
       "    </tr>\n",
       "    <tr>\n",
       "      <th>3133</th>\n",
       "      <td>The Signal</td>\n",
       "      <td>(Sci-Fi, Thriller)</td>\n",
       "    </tr>\n",
       "    <tr>\n",
       "      <th>3134</th>\n",
       "      <td>The Salt of the Earth</td>\n",
       "      <td>(Documentary, Biography)</td>\n",
       "    </tr>\n",
       "    <tr>\n",
       "      <th>3135</th>\n",
       "      <td>George Washington</td>\n",
       "      <td>(Drama,)</td>\n",
       "    </tr>\n",
       "    <tr>\n",
       "      <th>3136</th>\n",
       "      <td>The Exploding Girl</td>\n",
       "      <td>(Drama,)</td>\n",
       "    </tr>\n",
       "    <tr>\n",
       "      <th>3137</th>\n",
       "      <td>Mutual Appreciation</td>\n",
       "      <td>(Comedy,)</td>\n",
       "    </tr>\n",
       "    <tr>\n",
       "      <th>3138</th>\n",
       "      <td>Funny Ha Ha</td>\n",
       "      <td>(Comedy, Drama)</td>\n",
       "    </tr>\n",
       "    <tr>\n",
       "      <th>3139</th>\n",
       "      <td>Down Terrace</td>\n",
       "      <td>(Comedy, Crime, Drama)</td>\n",
       "    </tr>\n",
       "    <tr>\n",
       "      <th>3140</th>\n",
       "      <td>Clerks</td>\n",
       "      <td>(Comedy,)</td>\n",
       "    </tr>\n",
       "    <tr>\n",
       "      <th>3141</th>\n",
       "      <td>In the Company of Men</td>\n",
       "      <td>(Comedy, Drama)</td>\n",
       "    </tr>\n",
       "    <tr>\n",
       "      <th>3142</th>\n",
       "      <td>Manito</td>\n",
       "      <td>(Drama, Family)</td>\n",
       "    </tr>\n",
       "    <tr>\n",
       "      <th>3143</th>\n",
       "      <td>Slacker</td>\n",
       "      <td>(Comedy, Romance)</td>\n",
       "    </tr>\n",
       "    <tr>\n",
       "      <th>3144</th>\n",
       "      <td>Paranormal Activity</td>\n",
       "      <td>(Horror,)</td>\n",
       "    </tr>\n",
       "    <tr>\n",
       "      <th>3145</th>\n",
       "      <td>The Puffy Chair</td>\n",
       "      <td>(Comedy, Drama, Romance)</td>\n",
       "    </tr>\n",
       "    <tr>\n",
       "      <th>3146</th>\n",
       "      <td>Breaking Upwards</td>\n",
       "      <td>(Romance,)</td>\n",
       "    </tr>\n",
       "    <tr>\n",
       "      <th>3147</th>\n",
       "      <td>El Mariachi</td>\n",
       "      <td>(Action, Crime, Drama)</td>\n",
       "    </tr>\n",
       "    <tr>\n",
       "      <th>3148</th>\n",
       "      <td>Primer</td>\n",
       "      <td>(Drama, Sci-Fi, Thriller)</td>\n",
       "    </tr>\n",
       "    <tr>\n",
       "      <th>3149</th>\n",
       "      <td>Cavite</td>\n",
       "      <td>(Thriller,)</td>\n",
       "    </tr>\n",
       "    <tr>\n",
       "      <th>3151</th>\n",
       "      <td>Shanghai Calling</td>\n",
       "      <td>(Comedy, Drama, Romance)</td>\n",
       "    </tr>\n",
       "  </tbody>\n",
       "</table>\n",
       "<p>3145 rows × 2 columns</p>\n",
       "</div>"
      ],
      "text/plain": [
       "                                            Title  \\\n",
       "0                                          Avatar   \n",
       "1        Pirates of the Caribbean: At World's End   \n",
       "2                                         Spectre   \n",
       "3                           The Dark Knight Rises   \n",
       "4                                 The Lone Ranger   \n",
       "5                                     John Carter   \n",
       "6                                         Tangled   \n",
       "7                                    Spider-Man 3   \n",
       "8               The Hobbit: An Unexpected Journey   \n",
       "9          Harry Potter and the Half-Blood Prince   \n",
       "10            The Hobbit: The Desolation of Smaug   \n",
       "11      The Hobbit: The Battle of the Five Armies   \n",
       "12    Pirates of the Caribbean: On Stranger Tides   \n",
       "13                               Superman Returns   \n",
       "14                              Quantum of Solace   \n",
       "15     Pirates of the Caribbean: Dead Man's Chest   \n",
       "16                                   Man of Steel   \n",
       "17       The Chronicles of Narnia: Prince Caspian   \n",
       "18                         The Amazing Spider-Man   \n",
       "19                                 Jurassic World   \n",
       "20            Transformers: Revenge of the Fallen   \n",
       "21                Transformers: Age of Extinction   \n",
       "22                          X-Men: The Last Stand   \n",
       "23                                     Robin Hood   \n",
       "24                                     Battleship   \n",
       "25                                      King Kong   \n",
       "26                                      King Kong   \n",
       "27                                      King Kong   \n",
       "28                             The Golden Compass   \n",
       "29                                        Titanic   \n",
       "...                                           ...   \n",
       "3121                 The Lost Skeleton of Cadavra   \n",
       "3122                                Cheap Thrills   \n",
       "3123                              Happy Christmas   \n",
       "3124      Peace, Propaganda and the Promised Land   \n",
       "3125                                           Pi   \n",
       "3126                                     20 Dates   \n",
       "3127                                Super Size Me   \n",
       "3128                      The Blair Witch Project   \n",
       "3129                        Supporting Characters   \n",
       "3130                                       The FP   \n",
       "3131                        The Brothers McMullen   \n",
       "3132                               Tiny Furniture   \n",
       "3133                                   The Signal   \n",
       "3134                        The Salt of the Earth   \n",
       "3135                            George Washington   \n",
       "3136                           The Exploding Girl   \n",
       "3137                          Mutual Appreciation   \n",
       "3138                                  Funny Ha Ha   \n",
       "3139                                 Down Terrace   \n",
       "3140                                       Clerks   \n",
       "3141                        In the Company of Men   \n",
       "3142                                       Manito   \n",
       "3143                                      Slacker   \n",
       "3144                          Paranormal Activity   \n",
       "3145                              The Puffy Chair   \n",
       "3146                             Breaking Upwards   \n",
       "3147                                  El Mariachi   \n",
       "3148                                       Primer   \n",
       "3149                                       Cavite   \n",
       "3151                             Shanghai Calling   \n",
       "\n",
       "                              Genres  \n",
       "0       (Action, Adventure, Fantasy)  \n",
       "1       (Action, Adventure, Fantasy)  \n",
       "2      (Action, Adventure, Thriller)  \n",
       "3                 (Action, Thriller)  \n",
       "4       (Action, Adventure, Western)  \n",
       "5       (Action, Adventure, Fantasy)  \n",
       "6     (Animation, Adventure, Comedy)  \n",
       "7                (Action, Adventure)  \n",
       "8               (Adventure, Fantasy)  \n",
       "9       (Adventure, Family, Fantasy)  \n",
       "10              (Adventure, Fantasy)  \n",
       "11              (Adventure, Fantasy)  \n",
       "12      (Action, Adventure, Fantasy)  \n",
       "13      (Action, Adventure, Fantasy)  \n",
       "14               (Action, Adventure)  \n",
       "15      (Action, Adventure, Fantasy)  \n",
       "16      (Action, Adventure, Fantasy)  \n",
       "17       (Action, Adventure, Family)  \n",
       "18      (Action, Adventure, Fantasy)  \n",
       "19       (Action, Adventure, Sci-Fi)  \n",
       "20       (Action, Adventure, Sci-Fi)  \n",
       "21       (Action, Adventure, Sci-Fi)  \n",
       "22       (Action, Adventure, Sci-Fi)  \n",
       "23        (Action, Adventure, Drama)  \n",
       "24       (Action, Adventure, Sci-Fi)  \n",
       "25        (Action, Adventure, Drama)  \n",
       "26        (Action, Adventure, Drama)  \n",
       "27        (Action, Adventure, Drama)  \n",
       "28      (Adventure, Family, Fantasy)  \n",
       "29                  (Drama, Romance)  \n",
       "...                              ...  \n",
       "3121        (Comedy, Horror, Sci-Fi)  \n",
       "3122          (Comedy, Crime, Drama)  \n",
       "3123                 (Comedy, Drama)  \n",
       "3124                  (Documentary,)  \n",
       "3125               (Drama, Thriller)  \n",
       "3126    (Biography, Comedy, Romance)  \n",
       "3127    (Documentary, Comedy, Drama)  \n",
       "3128                       (Horror,)  \n",
       "3129                       (Comedy,)  \n",
       "3130    (Action, Adventure, Fantasy)  \n",
       "3131        (Comedy, Drama, Romance)  \n",
       "3132                 (Comedy, Drama)  \n",
       "3133              (Sci-Fi, Thriller)  \n",
       "3134        (Documentary, Biography)  \n",
       "3135                        (Drama,)  \n",
       "3136                        (Drama,)  \n",
       "3137                       (Comedy,)  \n",
       "3138                 (Comedy, Drama)  \n",
       "3139          (Comedy, Crime, Drama)  \n",
       "3140                       (Comedy,)  \n",
       "3141                 (Comedy, Drama)  \n",
       "3142                 (Drama, Family)  \n",
       "3143               (Comedy, Romance)  \n",
       "3144                       (Horror,)  \n",
       "3145        (Comedy, Drama, Romance)  \n",
       "3146                      (Romance,)  \n",
       "3147          (Action, Crime, Drama)  \n",
       "3148       (Drama, Sci-Fi, Thriller)  \n",
       "3149                     (Thriller,)  \n",
       "3151        (Comedy, Drama, Romance)  \n",
       "\n",
       "[3145 rows x 2 columns]"
      ]
     },
     "execution_count": 502,
     "metadata": {},
     "output_type": "execute_result"
    }
   ],
   "source": [
    "data[[\"Title\",\"Genres\"]]"
   ]
  },
  {
   "cell_type": "markdown",
   "metadata": {},
   "source": [
    "## Mean of Previous Scores\n",
    "##### Turn categories into numerical data by averaging previous scores for category"
   ]
  },
  {
   "cell_type": "code",
   "execution_count": null,
   "metadata": {
    "collapsed": true
   },
   "outputs": [],
   "source": []
  },
  {
   "cell_type": "code",
   "execution_count": 146,
   "metadata": {
    "collapsed": true
   },
   "outputs": [],
   "source": [
    "def feature_df(df,merge_column,date_column,title_column):\n",
    "\"\"\" split_apply_combine\n",
    "in:    df - dataframe, sorted ascending by dates\n",
    "       date_column - column containing sorted ascending dates\n",
    "       merge - column [director / actor / studio]\n",
    "       title_column - column to merge original table with last\n",
    "\n",
    "out:   df - with avg stats\n",
    "\"\"\"\n",
    "    self_merge = pd.merge(df,df,on=merge_column)\n",
    "    self_merge = self_merge[self_merge[date_column+\"_x\"] > self_merge[date_column+\"_y\"]]\n",
    "    prior_averages = self_merge.groupby(by=[merge_column, title_column+\"_y\"]).mean().reset_index()\n",
    "    \n",
    "    mylist = list(prior_averages.keys())\n",
    "    sub = '_x'\n",
    "    new_features = [s for s in mylist if sub in s]\n",
    "    new_features_rename = [column.replace(\"_x\",\"_\"+merge_column) for column in new_features]\n",
    "    new_features_rename.append(title_column)\n",
    "    new_features.append(title_column+\"_y\")\n",
    "    \n",
    "    d = dict(zip(new_features,new_features_rename))\n",
    "\n",
    "    featuredf = prior_averages[new_features]\n",
    "    featuredf.rename(columns=d,inplace=True)\n",
    "    \n",
    "    return featuredf"
   ]
  },
  {
   "cell_type": "code",
   "execution_count": 328,
   "metadata": {
    "collapsed": false
   },
   "outputs": [],
   "source": [
    "actor1_features = feature_df(data,\"Actor1\",\"Open\",\"Title\")\n",
    "actor2_features = feature_df(data,\"Actor2\",\"Open\",\"Title\")\n",
    "actor3_features = feature_df(data,\"Actor3\",\"Open\",\"Title\")\n",
    "director_features = feature_df(data,\"Director\",\"Open\",\"Title\")\n",
    "studio_features = feature_df(data,\"Studio\",\"Open\",\"Title\")"
   ]
  },
  {
   "cell_type": "code",
   "execution_count": 329,
   "metadata": {
    "collapsed": false
   },
   "outputs": [],
   "source": [
    "data_a1 = pd.merge(data,actor1_features,on=\"Title\",how='left')\n",
    "data_a2 = pd.merge(data_a1,actor2_features,on=\"Title\",how='left')\n",
    "data_a3 = pd.merge(data_a2,actor3_features,on=\"Title\",how='left')\n",
    "data_dir = pd.merge(data_a3,director_features,on=\"Title\",how='left')\n",
    "data_stud = pd.merge(data_dir,studio_features,on=\"Title\",how='left') #.fillna(-1)"
   ]
  },
  {
   "cell_type": "code",
   "execution_count": 305,
   "metadata": {
    "collapsed": false
   },
   "outputs": [],
   "source": [
    "data_stud[\"xs\"] = data_stud.Production_Budget_Studio #.fillna(-1)\n"
   ]
  },
  {
   "cell_type": "code",
   "execution_count": 321,
   "metadata": {
    "collapsed": false
   },
   "outputs": [
    {
     "data": {
      "text/plain": [
       "array(['Actor1', 'Actor2', 'Actor3', 'Actors', 'Box_Office',\n",
       "       'Box_Office_Actor1', 'Box_Office_Actor2', 'Box_Office_Actor3',\n",
       "       'Box_Office_Director', 'Box_Office_Studio', 'Director',\n",
       "       'Domestic_Gross', 'Domestic_Gross_Actor1', 'Domestic_Gross_Actor2',\n",
       "       'Domestic_Gross_Actor3', 'Domestic_Gross_Director',\n",
       "       'Domestic_Gross_Studio', 'Genres', 'IMDB_Score',\n",
       "       'IMDB_Score_Actor1', 'IMDB_Score_Actor2', 'IMDB_Score_Actor3',\n",
       "       'IMDB_Score_Director', 'IMDB_Score_Studio', 'Metascore',\n",
       "       'Metascore_Actor1', 'Metascore_Actor2', 'Metascore_Actor3',\n",
       "       'Metascore_Director', 'Metascore_Studio', 'Noms', 'Noms_Actor1',\n",
       "       'Noms_Actor2', 'Noms_Actor3', 'Noms_Director', 'Noms_Studio',\n",
       "       'Open', 'Opening', 'Opening_Actor1', 'Opening_Actor2',\n",
       "       'Opening_Actor3', 'Opening_Director', 'Opening_Studio',\n",
       "       'Production_Budget', 'Production_Budget_Actor1',\n",
       "       'Production_Budget_Actor2', 'Production_Budget_Actor3',\n",
       "       'Production_Budget_Director', 'Production_Budget_Studio', 'Rank',\n",
       "       'Rating', 'Studio', 'Title', 'Total_Gross', 'Total_Gross_Actor1',\n",
       "       'Total_Gross_Actor2', 'Total_Gross_Actor3', 'Total_Gross_Director',\n",
       "       'Total_Gross_Studio', 'Users', 'Users_Actor1', 'Users_Actor2',\n",
       "       'Users_Actor3', 'Users_Director', 'Users_Studio', 'Wins',\n",
       "       'Wins_Actor1', 'Wins_Actor2', 'Wins_Actor3', 'Wins_Director',\n",
       "       'Wins_Studio', 'cpi_date'], \n",
       "      dtype='|S26')"
      ]
     },
     "execution_count": 321,
     "metadata": {},
     "output_type": "execute_result"
    }
   ],
   "source": [
    "# data_dir.fillna(0)\n",
    "np.array(sorted(list(data_stud.keys()))) #.reshape(31,2)"
   ]
  },
  {
   "cell_type": "code",
   "execution_count": 496,
   "metadata": {
    "collapsed": false
   },
   "outputs": [
    {
     "data": {
      "text/html": [
       "<div>\n",
       "<table border=\"1\" class=\"dataframe\">\n",
       "  <thead>\n",
       "    <tr style=\"text-align: right;\">\n",
       "      <th></th>\n",
       "      <th>Production_Budget</th>\n",
       "      <th>Production_Budget_Director</th>\n",
       "      <th>Production_Budget_Studio</th>\n",
       "      <th>Opening_Director</th>\n",
       "      <th>Opening_Studio</th>\n",
       "      <th>Production_Budget_Actor1</th>\n",
       "    </tr>\n",
       "  </thead>\n",
       "  <tbody>\n",
       "    <tr>\n",
       "      <th>Production_Budget</th>\n",
       "      <td>1.000000</td>\n",
       "      <td>0.473794</td>\n",
       "      <td>0.474696</td>\n",
       "      <td>0.314635</td>\n",
       "      <td>0.450324</td>\n",
       "      <td>0.319830</td>\n",
       "    </tr>\n",
       "    <tr>\n",
       "      <th>Production_Budget_Director</th>\n",
       "      <td>0.473794</td>\n",
       "      <td>1.000000</td>\n",
       "      <td>0.295990</td>\n",
       "      <td>0.746863</td>\n",
       "      <td>0.275093</td>\n",
       "      <td>0.338222</td>\n",
       "    </tr>\n",
       "    <tr>\n",
       "      <th>Production_Budget_Studio</th>\n",
       "      <td>0.474696</td>\n",
       "      <td>0.295990</td>\n",
       "      <td>1.000000</td>\n",
       "      <td>0.227058</td>\n",
       "      <td>0.892143</td>\n",
       "      <td>0.212327</td>\n",
       "    </tr>\n",
       "    <tr>\n",
       "      <th>Opening_Director</th>\n",
       "      <td>0.314635</td>\n",
       "      <td>0.746863</td>\n",
       "      <td>0.227058</td>\n",
       "      <td>1.000000</td>\n",
       "      <td>0.237309</td>\n",
       "      <td>0.278412</td>\n",
       "    </tr>\n",
       "    <tr>\n",
       "      <th>Opening_Studio</th>\n",
       "      <td>0.450324</td>\n",
       "      <td>0.275093</td>\n",
       "      <td>0.892143</td>\n",
       "      <td>0.237309</td>\n",
       "      <td>1.000000</td>\n",
       "      <td>0.210237</td>\n",
       "    </tr>\n",
       "    <tr>\n",
       "      <th>Production_Budget_Actor1</th>\n",
       "      <td>0.319830</td>\n",
       "      <td>0.338222</td>\n",
       "      <td>0.212327</td>\n",
       "      <td>0.278412</td>\n",
       "      <td>0.210237</td>\n",
       "      <td>1.000000</td>\n",
       "    </tr>\n",
       "  </tbody>\n",
       "</table>\n",
       "</div>"
      ],
      "text/plain": [
       "                            Production_Budget  Production_Budget_Director  \\\n",
       "Production_Budget                    1.000000                    0.473794   \n",
       "Production_Budget_Director           0.473794                    1.000000   \n",
       "Production_Budget_Studio             0.474696                    0.295990   \n",
       "Opening_Director                     0.314635                    0.746863   \n",
       "Opening_Studio                       0.450324                    0.275093   \n",
       "Production_Budget_Actor1             0.319830                    0.338222   \n",
       "\n",
       "                            Production_Budget_Studio  Opening_Director  \\\n",
       "Production_Budget                           0.474696          0.314635   \n",
       "Production_Budget_Director                  0.295990          0.746863   \n",
       "Production_Budget_Studio                    1.000000          0.227058   \n",
       "Opening_Director                            0.227058          1.000000   \n",
       "Opening_Studio                              0.892143          0.237309   \n",
       "Production_Budget_Actor1                    0.212327          0.278412   \n",
       "\n",
       "                            Opening_Studio  Production_Budget_Actor1  \n",
       "Production_Budget                 0.450324                  0.319830  \n",
       "Production_Budget_Director        0.275093                  0.338222  \n",
       "Production_Budget_Studio          0.892143                  0.212327  \n",
       "Opening_Director                  0.237309                  0.278412  \n",
       "Opening_Studio                    1.000000                  0.210237  \n",
       "Production_Budget_Actor1          0.210237                  1.000000  "
      ]
     },
     "execution_count": 496,
     "metadata": {},
     "output_type": "execute_result"
    }
   ],
   "source": [
    "# for name,group in data_stud.groupby('Studio'):\n",
    "#     print group\n",
    "#     break\n",
    "res = data_stud.corr(method='pearson').unstack().reset_index()\n",
    "res.columns=[\"l1\",\"l2\",\"Corr\"]\n",
    "nres = res.sort_values(by='Corr',ascending=False)\n",
    "nres[(nres.Corr < 1) & (nres.Corr > .2) & (nres.l1 == \"Opening\") ]\n",
    "# nres[(nres.Corr > -1) & (nres.Corr < 0)]\n",
    "\n",
    "data_stud.Production_Budget.corr(data_stud.Opening_Studio)\n",
    "## Opening ~\n",
    "# Production_Budget \n",
    "\n",
    "rez = data_stud[[\"Production_Budget\",\"Production_Budget_Director\",\"Production_Budget_Studio\",\"Opening_Director\",\"Opening_Studio\", \"Production_Budget_Actor1\"]]\n",
    "rez.corr()\n",
    "\n"
   ]
  },
  {
   "cell_type": "markdown",
   "metadata": {},
   "source": [
    "## Modeling"
   ]
  },
  {
   "cell_type": "code",
   "execution_count": 251,
   "metadata": {
    "collapsed": true
   },
   "outputs": [],
   "source": [
    "import statsmodels.api as sm\n",
    "from patsy import dmatrices"
   ]
  },
  {
   "cell_type": "code",
   "execution_count": 310,
   "metadata": {
    "collapsed": false
   },
   "outputs": [],
   "source": [
    "# Metascore*IMDB_Score + Metascore_Director*Metascore_Actor1*Metascore_Actor2*Metascore_Actor3 + IMDB_Score_Actor1*IMDB_Score_Actor2*IMDB_Score_Actor3 + Wins_Actor1*Wins_Actor2*Wins_Actor3*Wins_Director + Noms_Director*Noms_Actor1*Noms_Actor2*Noms_Actor3\n",
    "Y, x = dmatrices(\" Noms ~ Metascore*IMDB_Score + Metascore_Director*Metascore_Actor1*Metascore_Actor2*Metascore_Actor3 + IMDB_Score_Actor1*IMDB_Score_Actor2*IMDB_Score_Actor3 + Wins_Actor1*Wins_Actor2*Wins_Actor3*Wins_Director + Noms_Director*Noms_Actor1*Noms_Actor2*Noms_Actor3\", data=data_dir, return_type = \"dataframe\")"
   ]
  },
  {
   "cell_type": "code",
   "execution_count": 306,
   "metadata": {
    "collapsed": false
   },
   "outputs": [],
   "source": [
    "Y, x = dmatrices(\" Noms ~ xs\", data=data_stud, return_type = \"dataframe\")"
   ]
  },
  {
   "cell_type": "code",
   "execution_count": 242,
   "metadata": {
    "collapsed": true
   },
   "outputs": [],
   "source": [
    "XX = data_dir[[\"Metascore\", \"IMDB_Score\", \"Metascore_Director\", \"Metascore_Actor1\", \"Metascore_Actor2\", \"Metascore_Actor3\",\"IMDB_Score_Actor1\",\"IMDB_Score_Actor2\",\"IMDB_Score_Actor3\", \"Wins_Actor1\",\"Wins_Actor2\",\"Wins_Actor3\",\"Wins_Director\",\"Noms_Director\",\"Noms_Actor1\",\"Noms_Actor2\",\"Noms_Actor3\"]]"
   ]
  },
  {
   "cell_type": "code",
   "execution_count": 235,
   "metadata": {
    "collapsed": true
   },
   "outputs": [],
   "source": [
    "YY = data_dir[\"Noms\"]"
   ]
  },
  {
   "cell_type": "code",
   "execution_count": 403,
   "metadata": {
    "collapsed": false,
    "scrolled": false
   },
   "outputs": [],
   "source": [
    "# Y, x = dmatrices(\" Noms ~ xs\", data=data_stud, return_type = \"dataframe\")\n",
    "model = sm.OLS(Y, x)\n",
    "results = model.fit()\n",
    "# results.summary()"
   ]
  },
  {
   "cell_type": "code",
   "execution_count": 281,
   "metadata": {
    "collapsed": false
   },
   "outputs": [],
   "source": [
    "# hie_data = sm.datasets.randhie.load_pandas()\n",
    "# corr_matrix = np.corrcoef(hie_data.data.T)\n",
    "# sm.graphics.plot_corr(corr_matrix, xnames=hie_data.names)\n"
   ]
  },
  {
   "cell_type": "code",
   "execution_count": 317,
   "metadata": {
    "collapsed": false
   },
   "outputs": [
    {
     "data": {
      "text/plain": [
       "LinearRegression(copy_X=True, fit_intercept=True, n_jobs=1, normalize=False)"
      ]
     },
     "execution_count": 317,
     "metadata": {},
     "output_type": "execute_result"
    }
   ],
   "source": [
    "from sklearn.linear_model import LinearRegression\n",
    "\n",
    "rgr = LinearRegression()\n",
    "# rgr.fit(data_stud[['Domestic_Gross']].values, data_stud['Noms'])\n",
    "rgr.fit(XX, data_stud['Noms'])\n",
    "\n",
    "pred = rgr.predict(new_df[['Normalized_Production_Budget']].values)\n",
    "# print sum((pred - new_df['Normalized_Domestic_Gross'])**2)\n",
    "# data_stud[[\"Metascore\", \"IMDB_Score\", \"Metascore_Director\", \"Metascore_Actor1\", \"Metascore_Actor2\", \"Metascore_Actor3\",\"IMDB_Score_Actor1\",\"IMDB_Score_Actor2\",\"IMDB_Score_Actor3\", \"Wins_Actor1\",\"Wins_Actor2\",\"Wins_Actor3\",\"Wins_Director\",\"Noms_Director\",\"Noms_Actor1\",\"Noms_Actor2\",\"Noms_Actor3\"]].fillna(0)"
   ]
  },
  {
   "cell_type": "code",
   "execution_count": 315,
   "metadata": {
    "collapsed": false
   },
   "outputs": [],
   "source": [
    "XX = data_stud[[\"Metascore\", \"IMDB_Score\", \"Metascore_Director\", \"Metascore_Actor1\", \"Metascore_Actor2\", \"Metascore_Actor3\",\"IMDB_Score_Actor1\",\"IMDB_Score_Actor2\",\"IMDB_Score_Actor3\", \"Wins_Actor1\",\"Wins_Actor2\",\"Wins_Actor3\",\"Wins_Director\",\"Noms_Director\",\"Noms_Actor1\",\"Noms_Actor2\",\"Noms_Actor3\"]].fillna(0).values"
   ]
  },
  {
   "cell_type": "code",
   "execution_count": 316,
   "metadata": {
    "collapsed": false
   },
   "outputs": [
    {
     "data": {
      "text/plain": [
       "array([[ 83.        ,   7.9       ,   0.        , ...,   0.        ,\n",
       "          0.        ,   0.        ],\n",
       "       [ 50.        ,   7.1       ,  56.        , ...,   0.42857143,\n",
       "          0.        ,   0.        ],\n",
       "       [ 60.        ,   7.        ,   0.        , ...,   0.        ,\n",
       "          0.        ,   0.        ],\n",
       "       ..., \n",
       "       [ 68.        ,   7.        ,   0.        , ...,   0.        ,\n",
       "          0.        ,   0.        ],\n",
       "       [ 64.        ,   6.2       ,   0.        , ...,   0.        ,\n",
       "          0.        ,   0.        ],\n",
       "       [ 45.        ,   6.3       ,   0.        , ...,   0.        ,\n",
       "          0.        ,   0.        ]])"
      ]
     },
     "execution_count": 316,
     "metadata": {},
     "output_type": "execute_result"
    }
   ],
   "source": [
    "XX"
   ]
  },
  {
   "cell_type": "code",
   "execution_count": 318,
   "metadata": {
    "collapsed": false
   },
   "outputs": [
    {
     "name": "stdout",
     "output_type": "stream",
     "text": [
      "[ 0.02615512  0.20757857 -0.00044581 -0.00546338 -0.00892415 -0.0011908\n",
      "  0.06017814  0.06993625  0.01586574  0.01296882  0.06243296  0.23071763\n",
      " -0.25764459  0.35744619  0.13768525 -0.01562358 -0.11977882] -2.33344089298\n"
     ]
    }
   ],
   "source": [
    "print rgr.coef_,rgr.intercept_\n",
    "# plt.plot(data_stud[['Domestic_Gross']].values,(data_stud[['Domestic_Gross']].values*rgr.coef_ + rgr.intercept_))\n",
    "# plt.scatter(data_stud[['Domestic_Gross']].values, data_stud['Noms'])"
   ]
  },
  {
   "cell_type": "code",
   "execution_count": 309,
   "metadata": {
    "collapsed": false
   },
   "outputs": [
    {
     "data": {
      "text/plain": [
       "<matplotlib.collections.PathCollection at 0x1280bec50>"
      ]
     },
     "execution_count": 309,
     "metadata": {},
     "output_type": "execute_result"
    },
    {
     "data": {
      "image/png": "[encoded data removed]",
      "text/plain": [
       "<matplotlib.figure.Figure at 0x1100e9550>"
      ]
     },
     "metadata": {},
     "output_type": "display_data"
    }
   ],
   "source": [
    "plt.plot(data_stud[['Domestic_Gross']].values,(data_stud[['Domestic_Gross']].values*rgr.coef_ + rgr.intercept_))\n",
    "plt.scatter(data_stud[['Domestic_Gross']].values, data_stud['Noms'])"
   ]
  },
  {
   "cell_type": "code",
   "execution_count": 287,
   "metadata": {
    "collapsed": false
   },
   "outputs": [
    {
     "data": {
      "text/plain": [
       "0.099730180466107488"
      ]
     },
     "execution_count": 287,
     "metadata": {},
     "output_type": "execute_result"
    }
   ],
   "source": [
    "rgr.score(data_stud[['Domestic_Gross']].values,data_stud['Noms'])"
   ]
  },
  {
   "cell_type": "code",
   "execution_count": 394,
   "metadata": {
    "collapsed": false
   },
   "outputs": [],
   "source": [
    "xx = data_stud[[\"Metascore\",\"IMDB_Score\",\"Actor1\",\"Noms_Actor1\",\"Actor3\",\"Noms_Actor3\",\"Actor2\",\"Noms_Actor2\",\"Director\",\"Noms_Director\",\"Noms\",\"Title\"]].sort_values(by=\"Noms\",ascending=False).dropna()"
   ]
  },
  {
   "cell_type": "code",
   "execution_count": 508,
   "metadata": {
    "collapsed": false,
    "scrolled": false
   },
   "outputs": [
    {
     "data": {
      "image/png": "[encoded data removed]",
      "text/plain": [
       "<matplotlib.figure.Figure at 0x12856e990>"
      ]
     },
     "metadata": {},
     "output_type": "display_data"
    }
   ],
   "source": [
    "monnies = data_stud[[\"Opening\", \"IMDB_Score_Director\",\"Noms_Director\",\"Production_Budget\",\"Opening_Studio\", \n",
    "                     \"Opening_Actor1\",\"Opening_Actor2\", \"Opening_Director\", \"Opening_Actor3\"]].sort_values(by=\"Opening\",ascending=False).dropna()\n",
    "\n",
    "\n",
    "s = \"\"\"'Actor1', 'Actor2', 'Actor3', 'Actors', 'Box_Office',\n",
    "       'Box_Office_Actor1', 'Box_Office_Actor2', 'Box_Office_Actor3',\n",
    "       'Box_Office_Director', 'Box_Office_Studio', 'Director',\n",
    "       'Domestic_Gross', 'Domestic_Gross_Actor1', 'Domestic_Gross_Actor2',\n",
    "       'Domestic_Gross_Actor3', 'Domestic_Gross_Director',\n",
    "       'Domestic_Gross_Studio', 'Genres', 'IMDB_Score',\n",
    "       'IMDB_Score_Actor1', 'IMDB_Score_Actor2', 'IMDB_Score_Actor3',\n",
    "       'IMDB_Score_Director', 'IMDB_Score_Studio', 'Metascore',\n",
    "       'Metascore_Actor1', 'Metascore_Actor2', 'Metascore_Actor3',\n",
    "       'Metascore_Director', 'Metascore_Studio', 'Noms', 'Noms_Actor1',\n",
    "       'Noms_Actor2', 'Noms_Actor3', 'Noms_Director', 'Noms_Studio',\n",
    "       'Open', 'Opening', 'Opening_Actor1', 'Opening_Actor2',\n",
    "       'Opening_Actor3', 'Opening_Director', 'Opening_Studio',\n",
    "       'Production_Budget', 'Production_Budget_Actor1',\n",
    "       'Production_Budget_Actor2', 'Production_Budget_Actor3',\n",
    "       'Production_Budget_Director', 'Production_Budget_Studio', 'Rank',\n",
    "       'Rating', 'Studio', 'Title', 'Total_Gross', 'Total_Gross_Actor1',\n",
    "       'Total_Gross_Actor2', 'Total_Gross_Actor3', 'Total_Gross_Director',\n",
    "       'Total_Gross_Studio', 'Users', 'Users_Actor1', 'Users_Actor2',\n",
    "       'Users_Actor3', 'Users_Director', 'Users_Studio', 'Wins',\n",
    "       'Wins_Actor1', 'Wins_Actor2', 'Wins_Actor3', 'Wins_Director',\n",
    "       'Wins_Studio', 'cpi_date'\"\"\"\n",
    "\n",
    "plt.scatter(monnies.Opening,monnies.Production_Budget)\n",
    "plt.plot\n",
    "plt.show()\n",
    "# monnies.Opening.corr(monnies.Production_Budget)"
   ]
  },
  {
   "cell_type": "code",
   "execution_count": 560,
   "metadata": {
    "collapsed": false
   },
   "outputs": [
    {
     "data": {
      "image/png": "[encoded data removed]",
      "text/plain": [
       "<matplotlib.figure.Figure at 0x12d0dbfd0>"
      ]
     },
     "metadata": {},
     "output_type": "display_data"
    },
    {
     "data": {
      "text/html": [
       "<div>\n",
       "<table border=\"1\" class=\"dataframe\">\n",
       "  <thead>\n",
       "    <tr style=\"text-align: right;\">\n",
       "      <th></th>\n",
       "      <th>Intercept</th>\n",
       "      <th>Production_Budget</th>\n",
       "      <th>Opening_Studio</th>\n",
       "      <th>Opening_Actor2</th>\n",
       "      <th>Opening_Director</th>\n",
       "      <th>Opening_Actor1</th>\n",
       "      <th>Opening_Actor3</th>\n",
       "    </tr>\n",
       "  </thead>\n",
       "  <tbody>\n",
       "    <tr>\n",
       "      <th>157</th>\n",
       "      <td>1</td>\n",
       "      <td>130000000</td>\n",
       "      <td>26202328.083333</td>\n",
       "      <td>7.489016e+07</td>\n",
       "      <td>1.122818e+08</td>\n",
       "      <td>1.122818e+08</td>\n",
       "      <td>112281807.5</td>\n",
       "    </tr>\n",
       "    <tr>\n",
       "      <th>764</th>\n",
       "      <td>1</td>\n",
       "      <td>50000000</td>\n",
       "      <td>12337021.538462</td>\n",
       "      <td>6.483219e+07</td>\n",
       "      <td>6.208700e+04</td>\n",
       "      <td>4.061834e+07</td>\n",
       "      <td>64832191.0</td>\n",
       "    </tr>\n",
       "    <tr>\n",
       "      <th>15</th>\n",
       "      <td>1</td>\n",
       "      <td>225000000</td>\n",
       "      <td>33927331.430556</td>\n",
       "      <td>1.147328e+08</td>\n",
       "      <td>6.067433e+07</td>\n",
       "      <td>4.398176e+07</td>\n",
       "      <td>65092400.5</td>\n",
       "    </tr>\n",
       "    <tr>\n",
       "      <th>173</th>\n",
       "      <td>1</td>\n",
       "      <td>125000000</td>\n",
       "      <td>20649605.285714</td>\n",
       "      <td>5.138642e+07</td>\n",
       "      <td>1.026660e+08</td>\n",
       "      <td>1.026660e+08</td>\n",
       "      <td>102665981.0</td>\n",
       "    </tr>\n",
       "    <tr>\n",
       "      <th>79</th>\n",
       "      <td>1</td>\n",
       "      <td>160000000</td>\n",
       "      <td>38887387.840000</td>\n",
       "      <td>4.272318e+07</td>\n",
       "      <td>3.407744e+07</td>\n",
       "      <td>4.237267e+07</td>\n",
       "      <td>70838207.0</td>\n",
       "    </tr>\n",
       "  </tbody>\n",
       "</table>\n",
       "</div>"
      ],
      "text/plain": [
       "     Intercept  Production_Budget   Opening_Studio  Opening_Actor2  \\\n",
       "157          1          130000000  26202328.083333    7.489016e+07   \n",
       "764          1           50000000  12337021.538462    6.483219e+07   \n",
       "15           1          225000000  33927331.430556    1.147328e+08   \n",
       "173          1          125000000  20649605.285714    5.138642e+07   \n",
       "79           1          160000000  38887387.840000    4.272318e+07   \n",
       "\n",
       "     Opening_Director  Opening_Actor1  Opening_Actor3  \n",
       "157      1.122818e+08    1.122818e+08     112281807.5  \n",
       "764      6.208700e+04    4.061834e+07      64832191.0  \n",
       "15       6.067433e+07    4.398176e+07      65092400.5  \n",
       "173      1.026660e+08    1.026660e+08     102665981.0  \n",
       "79       3.407744e+07    4.237267e+07      70838207.0  "
      ]
     },
     "execution_count": 560,
     "metadata": {},
     "output_type": "execute_result"
    }
   ],
   "source": [
    "Y, x = dmatrices(\"Opening ~Production_Budget + Opening_Studio + Opening_Actor2 + Opening_Director + Opening_Actor1+Opening_Actor3\", data=monnies, return_type = \"dataframe\")\n",
    "model = sm.OLS(Y, x)\n",
    "results = model.fit()\n",
    "results.summary()\n",
    "import scipy.stats as stats\n",
    "stats.probplot(results.resid, dist=\"norm\", plot=plt)\n",
    "plt.show()\n",
    "x.head()\n",
    "# data_dir[[\"Metascore\",\"IMDB_Score\",\"Opening_Actor3\"]].corr()"
   ]
  },
  {
   "cell_type": "code",
   "execution_count": 561,
   "metadata": {
    "collapsed": false
   },
   "outputs": [
    {
     "data": {
      "text/html": [
       "<table class=\"simpletable\">\n",
       "<caption>OLS Regression Results</caption>\n",
       "<tr>\n",
       "  <th>Dep. Variable:</th>         <td>Opening</td>     <th>  R-squared:         </th> <td>   0.553</td> \n",
       "</tr>\n",
       "<tr>\n",
       "  <th>Model:</th>                   <td>OLS</td>       <th>  Adj. R-squared:    </th> <td>   0.548</td> \n",
       "</tr>\n",
       "<tr>\n",
       "  <th>Method:</th>             <td>Least Squares</td>  <th>  F-statistic:       </th> <td>   104.1</td> \n",
       "</tr>\n",
       "<tr>\n",
       "  <th>Date:</th>             <td>Fri, 29 Jan 2016</td> <th>  Prob (F-statistic):</th> <td>5.72e-85</td> \n",
       "</tr>\n",
       "<tr>\n",
       "  <th>Time:</th>                 <td>14:17:30</td>     <th>  Log-Likelihood:    </th> <td> -9143.4</td> \n",
       "</tr>\n",
       "<tr>\n",
       "  <th>No. Observations:</th>      <td>   511</td>      <th>  AIC:               </th> <td>1.830e+04</td>\n",
       "</tr>\n",
       "<tr>\n",
       "  <th>Df Residuals:</th>          <td>   504</td>      <th>  BIC:               </th> <td>1.833e+04</td>\n",
       "</tr>\n",
       "<tr>\n",
       "  <th>Df Model:</th>              <td>     6</td>      <th>                     </th>     <td> </td>    \n",
       "</tr>\n",
       "<tr>\n",
       "  <th>Covariance Type:</th>      <td>nonrobust</td>    <th>                     </th>     <td> </td>    \n",
       "</tr>\n",
       "</table>\n",
       "<table class=\"simpletable\">\n",
       "<tr>\n",
       "          <td></td>             <th>coef</th>     <th>std err</th>      <th>t</th>      <th>P>|t|</th> <th>[95.0% Conf. Int.]</th> \n",
       "</tr>\n",
       "<tr>\n",
       "  <th>Intercept</th>         <td>-8.166e+06</td> <td> 1.54e+06</td> <td>   -5.312</td> <td> 0.000</td> <td>-1.12e+07 -5.15e+06</td>\n",
       "</tr>\n",
       "<tr>\n",
       "  <th>Production_Budget</th> <td>    0.2580</td> <td>    0.019</td> <td>   13.925</td> <td> 0.000</td> <td>    0.222     0.294</td>\n",
       "</tr>\n",
       "<tr>\n",
       "  <th>Opening_Studio</th>    <td>    0.2050</td> <td>    0.080</td> <td>    2.564</td> <td> 0.011</td> <td>    0.048     0.362</td>\n",
       "</tr>\n",
       "<tr>\n",
       "  <th>Opening_Actor2</th>    <td>    0.1175</td> <td>    0.037</td> <td>    3.161</td> <td> 0.002</td> <td>    0.044     0.191</td>\n",
       "</tr>\n",
       "<tr>\n",
       "  <th>Opening_Director</th>  <td>    0.0043</td> <td>    0.034</td> <td>    0.128</td> <td> 0.898</td> <td>   -0.062     0.071</td>\n",
       "</tr>\n",
       "<tr>\n",
       "  <th>Opening_Actor1</th>    <td>    0.2917</td> <td>    0.048</td> <td>    6.053</td> <td> 0.000</td> <td>    0.197     0.386</td>\n",
       "</tr>\n",
       "<tr>\n",
       "  <th>Opening_Actor3</th>    <td>    0.1227</td> <td>    0.031</td> <td>    3.964</td> <td> 0.000</td> <td>    0.062     0.184</td>\n",
       "</tr>\n",
       "</table>\n",
       "<table class=\"simpletable\">\n",
       "<tr>\n",
       "  <th>Omnibus:</th>       <td>219.041</td> <th>  Durbin-Watson:     </th> <td>   1.182</td>\n",
       "</tr>\n",
       "<tr>\n",
       "  <th>Prob(Omnibus):</th> <td> 0.000</td>  <th>  Jarque-Bera (JB):  </th> <td>1890.132</td>\n",
       "</tr>\n",
       "<tr>\n",
       "  <th>Skew:</th>          <td> 1.644</td>  <th>  Prob(JB):          </th> <td>    0.00</td>\n",
       "</tr>\n",
       "<tr>\n",
       "  <th>Kurtosis:</th>      <td>11.830</td>  <th>  Cond. No.          </th> <td>1.85e+08</td>\n",
       "</tr>\n",
       "</table>"
      ],
      "text/plain": [
       "<class 'statsmodels.iolib.summary.Summary'>\n",
       "\"\"\"\n",
       "                            OLS Regression Results                            \n",
       "==============================================================================\n",
       "Dep. Variable:                Opening   R-squared:                       0.553\n",
       "Model:                            OLS   Adj. R-squared:                  0.548\n",
       "Method:                 Least Squares   F-statistic:                     104.1\n",
       "Date:                Fri, 29 Jan 2016   Prob (F-statistic):           5.72e-85\n",
       "Time:                        14:17:30   Log-Likelihood:                -9143.4\n",
       "No. Observations:                 511   AIC:                         1.830e+04\n",
       "Df Residuals:                     504   BIC:                         1.833e+04\n",
       "Df Model:                           6                                         \n",
       "Covariance Type:            nonrobust                                         \n",
       "=====================================================================================\n",
       "                        coef    std err          t      P>|t|      [95.0% Conf. Int.]\n",
       "-------------------------------------------------------------------------------------\n",
       "Intercept         -8.166e+06   1.54e+06     -5.312      0.000     -1.12e+07 -5.15e+06\n",
       "Production_Budget     0.2580      0.019     13.925      0.000         0.222     0.294\n",
       "Opening_Studio        0.2050      0.080      2.564      0.011         0.048     0.362\n",
       "Opening_Actor2        0.1175      0.037      3.161      0.002         0.044     0.191\n",
       "Opening_Director      0.0043      0.034      0.128      0.898        -0.062     0.071\n",
       "Opening_Actor1        0.2917      0.048      6.053      0.000         0.197     0.386\n",
       "Opening_Actor3        0.1227      0.031      3.964      0.000         0.062     0.184\n",
       "==============================================================================\n",
       "Omnibus:                      219.041   Durbin-Watson:                   1.182\n",
       "Prob(Omnibus):                  0.000   Jarque-Bera (JB):             1890.132\n",
       "Skew:                           1.644   Prob(JB):                         0.00\n",
       "Kurtosis:                      11.830   Cond. No.                     1.85e+08\n",
       "==============================================================================\n",
       "\n",
       "Warnings:\n",
       "[1] Standard Errors assume that the covariance matrix of the errors is correctly specified.\n",
       "[2] The condition number is large, 1.85e+08. This might indicate that there are\n",
       "strong multicollinearity or other numerical problems.\n",
       "\"\"\""
      ]
     },
     "execution_count": 561,
     "metadata": {},
     "output_type": "execute_result"
    }
   ],
   "source": [
    "results.summary()"
   ]
  },
  {
   "cell_type": "code",
   "execution_count": 529,
   "metadata": {
    "collapsed": false
   },
   "outputs": [
    {
     "name": "stdout",
     "output_type": "stream",
     "text": [
      "9.1475416586e+13\n"
     ]
    }
   ],
   "source": [
    "import numpy as np\n",
    "from sklearn.linear_model import LinearRegression\n",
    "from sklearn.cross_validation import train_test_split\n",
    "X_train, X_test, y_train, y_test = train_test_split(monnies[[\"Production_Budget\",\"Opening_Actor1\",\"Opening_Actor3\"]], monnies.Opening, test_size=0.33)\n",
    "\n",
    "\n",
    "rgr = LinearRegression(fit_intercept=False)\n",
    "rgr.fit(X_train, y_train)\n",
    "pred = rgr.predict(X_train)\n",
    "\n",
    "test_pred = rgr.predict(X_test)\n",
    "print sum((y_test-test_pred)**2)/len(pred)\n",
    "# print sum((pred - monnies.Opening)**2)"
   ]
  },
  {
   "cell_type": "code",
   "execution_count": 498,
   "metadata": {
    "collapsed": false
   },
   "outputs": [
    {
     "data": {
      "text/plain": [
       "array([ 22882432.01483671,  44719251.62634645,   6644450.63962774,\n",
       "         6944056.52436828,   9289310.65945526,  24832191.60773713,\n",
       "        44619981.03717276,   5022044.85031009,  24536176.79682872,\n",
       "         9726410.1424292 ,  18627676.7295322 ,   5092736.4679521 ,\n",
       "         3960282.29944571,  12118081.89472041,   8166529.9973927 ,\n",
       "        22842985.67419081,  10037080.78508471,   3748046.00734687,\n",
       "        23563073.12365156,  43325292.82847762,  17619265.15289346,\n",
       "        35162833.2413841 ,  18700793.70616176,   9195748.28769581,\n",
       "         7659237.39130513,  57882057.26850906,  17510105.02970761,\n",
       "         7322767.98337142,   7824395.9526378 ,  24600376.99797605,\n",
       "        14640445.38559115,   6383470.22631513,  21777433.47527647,\n",
       "         9556678.21657053,   8019133.14894322,   8664600.4764072 ,\n",
       "        14025359.40201815,  10321995.5352607 ,  14025359.40201815,\n",
       "        20386477.03897691,  10275772.26167949,   7009833.35311634,\n",
       "         6128654.28183934,  25847400.33301847,  30748683.10070964,\n",
       "        46851417.0838692 ,  15169675.65491026,  22919152.00125339,\n",
       "        17017130.78423842,   8487660.34054982,  11920996.23860832,\n",
       "        18485274.83813715,   2342937.84201438,  10913403.66581851,\n",
       "         9195748.28769581,  25601635.93295076,  19476005.93641947,\n",
       "         5462485.61913188,  13893304.98103257,  14938938.8441266 ,\n",
       "        16247283.19311007,  17259782.19089607,   8302170.55120199,\n",
       "        16186540.20332979,   5895866.29831889,  21449009.26945766,\n",
       "        23193710.85282767,  18462116.94147335,   9352112.45874689,\n",
       "        13850966.17941963,   7147079.21786607,  31784238.47831168,\n",
       "         6725641.27007009,  10774766.74257984,   8629262.99877243,\n",
       "        16247283.19311007,  42956891.89112161,  18047002.05190769,\n",
       "        14479938.26742688,   4145651.07515876,  16247283.19311007,\n",
       "        26492796.7103536 ,  14922753.90840788,  31622516.98563776,\n",
       "        11525136.20343234,   4630531.69410735,  61124591.8711163 ,\n",
       "        37062661.73517784,  10034998.86628684,  15411268.82142126,\n",
       "        23299948.60572863,   8629262.99877243,  23214895.33401161,\n",
       "         1563482.79016556,   8784922.22597713,  25957950.25358663,\n",
       "        27189446.33014829,  20324416.5394266 ,  16632487.05729798,\n",
       "        15002669.31298047,  24646466.17552947,  12991342.32224076,\n",
       "        56113083.88794982,   9795187.46842873,  10382821.12951756,\n",
       "         5609829.04617409,  12757352.69765076,   4124413.46483104,\n",
       "        16869132.20210499,  31193586.9413334 ,  40805351.26083203,\n",
       "         8833552.20035442,   6661612.79902216,   5789183.90376685,\n",
       "         5719961.47772643,  48199601.69580051,  22989527.24768607,\n",
       "        26656424.06136264,  19879464.74650574,  15669237.95350196,\n",
       "        10862270.69797564,  20263814.9130106 ,  23949973.97472929,\n",
       "         9713303.97883232,  21989266.14384094,  24170645.91013181,\n",
       "        14025359.40201815,   5430656.51296471,  85064166.31716374,\n",
       "         9873402.60191343,  25028965.03654521,   5611004.31104357,\n",
       "        16647116.63389828,  27330272.41100514,  26728127.04075478,\n",
       "        11500541.8411441 ,  19776808.6245452 ,  66340122.52106015,\n",
       "         7586276.13430419,  17232472.48344868,   5269479.07624558,\n",
       "        12660652.44016814,  29322588.26787293,  21801843.83510172,\n",
       "        20613480.20438591,  17471962.18947889,  17735434.5828614 ,\n",
       "        25921550.42975689,   3697128.93527984,  17422454.1864007 ,\n",
       "        52044053.65396804,  44518660.20634741,  16820028.85522693,\n",
       "        34631339.09398049,   6380055.87740945,  53590165.38210727,\n",
       "        11447973.34109362,  13294848.22426772,  35311857.2644929 ,\n",
       "         5091413.75912998,  35232367.20450603,  14025359.40201815,\n",
       "         1464175.04930465,   7806553.93954762,  32312254.48449184,\n",
       "        22354486.45959533,  17905856.01843897,  21578434.57141965,\n",
       "        19484409.31320083,  11700261.88181025,  17141856.97502956,\n",
       "        50471841.89729642,  46065013.3482305 ,  46538297.45549957,\n",
       "        25675804.68040332,  27073578.6314079 ,  13806465.33232537,\n",
       "         9485135.82037321,  10387391.67718362,  12458995.49949272,\n",
       "        23132642.51937804,  13892271.64259093,   7876535.98064787,\n",
       "        25841917.41478168,   8949314.10184183,  23526620.40089405,\n",
       "        13876757.18614729,  20305538.3141892 ,  20355632.01598528,\n",
       "         2258872.49845101,  13962474.23679142,  15967459.1304315 ,\n",
       "        42532468.07150195,   9453174.40088907,   8806478.96633902,\n",
       "        16442221.83504447,  13112393.18089976,   4147234.94732777,\n",
       "        12326711.30239835,  10646778.46723391,   8629262.99877243,\n",
       "        23644068.20092675,  15667449.34570471,  10547015.33978511,\n",
       "        10533904.69775763,  10589980.70802512,   7290524.27106153,\n",
       "        16186540.20332979,  20134512.86682574,  41209716.31583024,\n",
       "        10270047.37862915,   7544806.46567667,  20549639.13746886,\n",
       "         9135760.98978063,  11394199.36286649,   8629262.99877243,\n",
       "        43055950.48510247,  13274068.84999407,  34690670.95677149,\n",
       "        11107730.80626133,  27390199.35712332,  14310012.564757  ,\n",
       "        12048847.97111016,  11714106.73980546,  11968826.37032767,\n",
       "        17480582.85690338,   1693313.38755974,  27017350.775296  ,\n",
       "        39667844.48888617,   7782362.64598236,  10973847.86621997,\n",
       "        76069807.16981322,  22038701.39816584,  34579822.19980402,\n",
       "        35906076.26154825,  47606655.12187652,  19395026.85983022,\n",
       "        12031051.05445554,   3084512.94023492,  34701895.30226555,\n",
       "         3483657.95449428,  18470374.92184244,  45386929.56187604,\n",
       "        11237385.38337516,  21020372.41847498,  33561887.46780171,\n",
       "         1982389.66018779,  26868484.36984504,  14571446.9971467 ,\n",
       "         3804728.68025365,   8913267.80054879,  16186540.20332979,\n",
       "        21736772.27737966,   5181718.93608813,   4442070.47766315,\n",
       "         6029788.51533446,  30847942.9830616 ,  29545342.59128546,\n",
       "         9986447.61848702,   5181718.93608813,  18047002.05190769,\n",
       "        13646217.68424534,   5753416.29102997,  20422251.86931307,\n",
       "         9555838.4871975 ,   2748744.03275431,  84102646.69530888,\n",
       "        46698525.17688778,  20674505.35467762,  30906199.49440126,\n",
       "         5229634.13612464,  20330011.81502933,  20365057.92634524,\n",
       "        12910416.03072257,  19326318.20617039,  11853292.17697508,\n",
       "        10650473.11419008,  11685494.71214846,   9470128.09408013,\n",
       "         3334543.05876498,   6510719.21356941,  26778154.10261164,\n",
       "        14789531.4992708 ,   8817244.98694737,   9713303.97883232,\n",
       "        19055702.45699758,  15180585.27470693,  26876665.67780753,\n",
       "        16903867.40402158,  16186540.20332979,  18047002.05190769,\n",
       "         3181669.65204444,  24164571.85676134,  20693939.90989098,\n",
       "        27458277.06144907,  21445686.77138605,  27385319.32892296,\n",
       "         7528169.60063522,  58412748.36669268,  41290219.04258264,\n",
       "         6889327.23700597,  11394199.36286649,   8302170.55120199,\n",
       "         5006533.31984747,   6492849.37219028,   5932349.18432484,\n",
       "        19495336.84052388,  23042807.89477543,  15484749.77840992,\n",
       "         3150274.8524765 ,  30251670.27023698,  17719283.69758485,\n",
       "        33072033.31739989,   7162707.46781127,  21813620.45068005,\n",
       "        15040299.20494379,  10065390.40524484,  31730137.2886036 ,\n",
       "         7754769.34307561,  15255887.94910334,  24705683.55404733,\n",
       "        13321533.26149484,  12984974.6311365 ,  10053887.52045139,\n",
       "        21730011.34445833,   8631500.24060664,   8302170.55120199,\n",
       "         7587106.96394123,  28565611.36995873,  12828456.87098023,\n",
       "         3259153.62974377,  12073550.16374015,   6071973.58223367,\n",
       "         7744529.25654092,   7901239.72688254,  30089814.96704882,\n",
       "         6772894.88706502,   6001185.5892791 ,  22517659.62870769,\n",
       "        16162354.36694751,  18047002.05190769,   7165507.89334824])"
      ]
     },
     "execution_count": 498,
     "metadata": {},
     "output_type": "execute_result"
    }
   ],
   "source": [
    "pred"
   ]
  },
  {
   "cell_type": "code",
   "execution_count": 462,
   "metadata": {
    "collapsed": false
   },
   "outputs": [
    {
     "name": "stdout",
     "output_type": "stream",
     "text": [
      "0.2771204104 0.0\n"
     ]
    }
   ],
   "source": [
    "print rgr.coef_[0],rgr.intercept_"
   ]
  },
  {
   "cell_type": "code",
   "execution_count": 395,
   "metadata": {
    "collapsed": false,
    "scrolled": false
   },
   "outputs": [
    {
     "data": {
      "text/html": [
       "<div>\n",
       "<table border=\"1\" class=\"dataframe\">\n",
       "  <thead>\n",
       "    <tr style=\"text-align: right;\">\n",
       "      <th></th>\n",
       "      <th>Metascore</th>\n",
       "      <th>IMDB_Score</th>\n",
       "      <th>Actor1</th>\n",
       "      <th>Noms_Actor1</th>\n",
       "      <th>Actor3</th>\n",
       "      <th>Noms_Actor3</th>\n",
       "      <th>Actor2</th>\n",
       "      <th>Noms_Actor2</th>\n",
       "      <th>Director</th>\n",
       "      <th>Noms_Director</th>\n",
       "      <th>Noms</th>\n",
       "      <th>Title</th>\n",
       "    </tr>\n",
       "  </thead>\n",
       "  <tbody>\n",
       "    <tr>\n",
       "      <th>29</th>\n",
       "      <td>74</td>\n",
       "      <td>7.7</td>\n",
       "      <td>Leonardo DiCaprio</td>\n",
       "      <td>3.388889</td>\n",
       "      <td>Billy Zane</td>\n",
       "      <td>0</td>\n",
       "      <td>Kate Winslet</td>\n",
       "      <td>1.5</td>\n",
       "      <td>James Cameron</td>\n",
       "      <td>4.500000</td>\n",
       "      <td>14</td>\n",
       "      <td>Titanic</td>\n",
       "    </tr>\n",
       "    <tr>\n",
       "      <th>224</th>\n",
       "      <td>92</td>\n",
       "      <td>8.8</td>\n",
       "      <td>Elijah Wood</td>\n",
       "      <td>3.600000</td>\n",
       "      <td>Orlando Bloom</td>\n",
       "      <td>2</td>\n",
       "      <td>Ian McKellen</td>\n",
       "      <td>2.5</td>\n",
       "      <td>Peter Jackson</td>\n",
       "      <td>3.363636</td>\n",
       "      <td>13</td>\n",
       "      <td>The Lord of the Rings: The Fellowship of the Ring</td>\n",
       "    </tr>\n",
       "    <tr>\n",
       "      <th>85</th>\n",
       "      <td>70</td>\n",
       "      <td>7.8</td>\n",
       "      <td>Brad Pitt</td>\n",
       "      <td>2.833333</td>\n",
       "      <td>Tilda Swinton</td>\n",
       "      <td>0</td>\n",
       "      <td>Cate Blanchett</td>\n",
       "      <td>0.5</td>\n",
       "      <td>David Fincher</td>\n",
       "      <td>3.000000</td>\n",
       "      <td>13</td>\n",
       "      <td>The Curious Case of Benjamin Button</td>\n",
       "    </tr>\n",
       "    <tr>\n",
       "      <th>1455</th>\n",
       "      <td>87</td>\n",
       "      <td>7.2</td>\n",
       "      <td>Gwyneth Paltrow</td>\n",
       "      <td>0.000000</td>\n",
       "      <td>Geoffrey Rush</td>\n",
       "      <td>2</td>\n",
       "      <td>Joseph Fiennes</td>\n",
       "      <td>0.0</td>\n",
       "      <td>John Madden</td>\n",
       "      <td>0.000000</td>\n",
       "      <td>13</td>\n",
       "      <td>Shakespeare in Love</td>\n",
       "    </tr>\n",
       "    <tr>\n",
       "      <th>699</th>\n",
       "      <td>82</td>\n",
       "      <td>8.8</td>\n",
       "      <td>Tom Hanks</td>\n",
       "      <td>2.888889</td>\n",
       "      <td>Gary Sinise</td>\n",
       "      <td>0</td>\n",
       "      <td>Robin Wright</td>\n",
       "      <td>1.5</td>\n",
       "      <td>Robert Zemeckis</td>\n",
       "      <td>0.857143</td>\n",
       "      <td>13</td>\n",
       "      <td>Forrest Gump</td>\n",
       "    </tr>\n",
       "  </tbody>\n",
       "</table>\n",
       "</div>"
      ],
      "text/plain": [
       "      Metascore  IMDB_Score             Actor1  Noms_Actor1         Actor3  \\\n",
       "29           74         7.7  Leonardo DiCaprio     3.388889     Billy Zane   \n",
       "224          92         8.8        Elijah Wood     3.600000  Orlando Bloom   \n",
       "85           70         7.8          Brad Pitt     2.833333  Tilda Swinton   \n",
       "1455         87         7.2    Gwyneth Paltrow     0.000000  Geoffrey Rush   \n",
       "699          82         8.8          Tom Hanks     2.888889    Gary Sinise   \n",
       "\n",
       "      Noms_Actor3          Actor2  Noms_Actor2         Director  \\\n",
       "29              0    Kate Winslet          1.5    James Cameron   \n",
       "224             2    Ian McKellen          2.5    Peter Jackson   \n",
       "85              0  Cate Blanchett          0.5    David Fincher   \n",
       "1455            2  Joseph Fiennes          0.0      John Madden   \n",
       "699             0    Robin Wright          1.5  Robert Zemeckis   \n",
       "\n",
       "      Noms_Director  Noms                                              Title  \n",
       "29         4.500000    14                                            Titanic  \n",
       "224        3.363636    13  The Lord of the Rings: The Fellowship of the Ring  \n",
       "85         3.000000    13                The Curious Case of Benjamin Button  \n",
       "1455       0.000000    13                                Shakespeare in Love  \n",
       "699        0.857143    13                                       Forrest Gump  "
      ]
     },
     "execution_count": 395,
     "metadata": {},
     "output_type": "execute_result"
    }
   ],
   "source": [
    "xx.head()"
   ]
  },
  {
   "cell_type": "code",
   "execution_count": 358,
   "metadata": {
    "collapsed": false
   },
   "outputs": [],
   "source": [
    "from sklearn.linear_model import LinearRegression\n",
    "\n",
    "rgr = LinearRegression()\n",
    "# rgr.fit(data_stud[['Domestic_Gross']].values, data_stud['Noms'])\n",
    "rgr.fit(xx[['IMDB_Score','Noms_Actor1','Noms_Actor2','Noms_Actor3','Noms_Director']].values, xx['Noms'])\n",
    "\n",
    "pred = rgr.predict(xx[['IMDB_Score','Noms_Actor1','Noms_Actor2','Noms_Actor3','Noms_Director']].values)\n",
    "r"
   ]
  },
  {
   "cell_type": "code",
   "execution_count": 393,
   "metadata": {
    "collapsed": false
   },
   "outputs": [
    {
     "data": {
      "text/html": [
       "<div>\n",
       "<table border=\"1\" class=\"dataframe\">\n",
       "  <thead>\n",
       "    <tr style=\"text-align: right;\">\n",
       "      <th></th>\n",
       "      <th>Metascore</th>\n",
       "      <th>IMDB_Score</th>\n",
       "      <th>Noms_Actor1</th>\n",
       "      <th>Noms_Actor3</th>\n",
       "      <th>Noms_Actor2</th>\n",
       "      <th>Noms_Director</th>\n",
       "      <th>Noms</th>\n",
       "    </tr>\n",
       "  </thead>\n",
       "  <tbody>\n",
       "    <tr>\n",
       "      <th>count</th>\n",
       "      <td>529.000000</td>\n",
       "      <td>529.000000</td>\n",
       "      <td>529.000000</td>\n",
       "      <td>529.000000</td>\n",
       "      <td>529.000000</td>\n",
       "      <td>529.000000</td>\n",
       "      <td>529.000000</td>\n",
       "    </tr>\n",
       "    <tr>\n",
       "      <th>mean</th>\n",
       "      <td>58.873346</td>\n",
       "      <td>6.888469</td>\n",
       "      <td>0.736977</td>\n",
       "      <td>0.685476</td>\n",
       "      <td>0.639016</td>\n",
       "      <td>0.933443</td>\n",
       "      <td>1.083176</td>\n",
       "    </tr>\n",
       "    <tr>\n",
       "      <th>std</th>\n",
       "      <td>17.368364</td>\n",
       "      <td>0.936648</td>\n",
       "      <td>1.313443</td>\n",
       "      <td>1.483242</td>\n",
       "      <td>1.305123</td>\n",
       "      <td>1.669250</td>\n",
       "      <td>2.408295</td>\n",
       "    </tr>\n",
       "    <tr>\n",
       "      <th>min</th>\n",
       "      <td>12.000000</td>\n",
       "      <td>4.300000</td>\n",
       "      <td>0.000000</td>\n",
       "      <td>0.000000</td>\n",
       "      <td>0.000000</td>\n",
       "      <td>0.000000</td>\n",
       "      <td>0.000000</td>\n",
       "    </tr>\n",
       "    <tr>\n",
       "      <th>25%</th>\n",
       "      <td>45.000000</td>\n",
       "      <td>6.300000</td>\n",
       "      <td>0.000000</td>\n",
       "      <td>0.000000</td>\n",
       "      <td>0.000000</td>\n",
       "      <td>0.000000</td>\n",
       "      <td>0.000000</td>\n",
       "    </tr>\n",
       "    <tr>\n",
       "      <th>50%</th>\n",
       "      <td>59.000000</td>\n",
       "      <td>6.900000</td>\n",
       "      <td>0.066667</td>\n",
       "      <td>0.000000</td>\n",
       "      <td>0.000000</td>\n",
       "      <td>0.000000</td>\n",
       "      <td>0.000000</td>\n",
       "    </tr>\n",
       "    <tr>\n",
       "      <th>75%</th>\n",
       "      <td>72.000000</td>\n",
       "      <td>7.600000</td>\n",
       "      <td>1.000000</td>\n",
       "      <td>0.900000</td>\n",
       "      <td>0.666667</td>\n",
       "      <td>1.000000</td>\n",
       "      <td>1.000000</td>\n",
       "    </tr>\n",
       "    <tr>\n",
       "      <th>max</th>\n",
       "      <td>94.000000</td>\n",
       "      <td>8.900000</td>\n",
       "      <td>12.000000</td>\n",
       "      <td>12.000000</td>\n",
       "      <td>10.000000</td>\n",
       "      <td>10.000000</td>\n",
       "      <td>14.000000</td>\n",
       "    </tr>\n",
       "  </tbody>\n",
       "</table>\n",
       "</div>"
      ],
      "text/plain": [
       "        Metascore  IMDB_Score  Noms_Actor1  Noms_Actor3  Noms_Actor2  \\\n",
       "count  529.000000  529.000000   529.000000   529.000000   529.000000   \n",
       "mean    58.873346    6.888469     0.736977     0.685476     0.639016   \n",
       "std     17.368364    0.936648     1.313443     1.483242     1.305123   \n",
       "min     12.000000    4.300000     0.000000     0.000000     0.000000   \n",
       "25%     45.000000    6.300000     0.000000     0.000000     0.000000   \n",
       "50%     59.000000    6.900000     0.066667     0.000000     0.000000   \n",
       "75%     72.000000    7.600000     1.000000     0.900000     0.666667   \n",
       "max     94.000000    8.900000    12.000000    12.000000    10.000000   \n",
       "\n",
       "       Noms_Director        Noms  \n",
       "count     529.000000  529.000000  \n",
       "mean        0.933443    1.083176  \n",
       "std         1.669250    2.408295  \n",
       "min         0.000000    0.000000  \n",
       "25%         0.000000    0.000000  \n",
       "50%         0.000000    0.000000  \n",
       "75%         1.000000    1.000000  \n",
       "max        10.000000   14.000000  "
      ]
     },
     "execution_count": 393,
     "metadata": {},
     "output_type": "execute_result"
    }
   ],
   "source": [
    "# print rgr.coef_,rgr.intercept_\n",
    "# from sklearn.linear_model import LinearRegression\n",
    "# rgr = LinearRegression()\n",
    "# rgr.fit(xx['Noms_Actor1'].values, xx['Noms'])\n",
    "# plt.plot(xx[['Noms_Actor1']].values, rgr.predict(xx['Noms_Actor1']))\n",
    "\n",
    "# plt.scatter(xx[['Noms_Actor1']].values, xx['Noms'])\n",
    "### range by using percentage of total\n",
    "xx.describe()"
   ]
  },
  {
   "cell_type": "code",
   "execution_count": 401,
   "metadata": {
    "collapsed": false
   },
   "outputs": [
    {
     "data": {
      "text/html": [
       "<table class=\"simpletable\">\n",
       "<caption>OLS Regression Results</caption>\n",
       "<tr>\n",
       "  <th>Dep. Variable:</th>          <td>Noms</td>       <th>  R-squared:         </th> <td>   0.273</td>\n",
       "</tr>\n",
       "<tr>\n",
       "  <th>Model:</th>                   <td>OLS</td>       <th>  Adj. R-squared:    </th> <td>   0.250</td>\n",
       "</tr>\n",
       "<tr>\n",
       "  <th>Method:</th>             <td>Least Squares</td>  <th>  F-statistic:       </th> <td>   11.99</td>\n",
       "</tr>\n",
       "<tr>\n",
       "  <th>Date:</th>             <td>Thu, 28 Jan 2016</td> <th>  Prob (F-statistic):</th> <td>7.83e-27</td>\n",
       "</tr>\n",
       "<tr>\n",
       "  <th>Time:</th>                 <td>13:51:01</td>     <th>  Log-Likelihood:    </th> <td> -1130.9</td>\n",
       "</tr>\n",
       "<tr>\n",
       "  <th>No. Observations:</th>      <td>   529</td>      <th>  AIC:               </th> <td>   2296.</td>\n",
       "</tr>\n",
       "<tr>\n",
       "  <th>Df Residuals:</th>          <td>   512</td>      <th>  BIC:               </th> <td>   2368.</td>\n",
       "</tr>\n",
       "<tr>\n",
       "  <th>Df Model:</th>              <td>    16</td>      <th>                     </th>     <td> </td>   \n",
       "</tr>\n",
       "<tr>\n",
       "  <th>Covariance Type:</th>      <td>nonrobust</td>    <th>                     </th>     <td> </td>   \n",
       "</tr>\n",
       "</table>\n",
       "<table class=\"simpletable\">\n",
       "<tr>\n",
       "                          <td></td>                             <th>coef</th>     <th>std err</th>      <th>t</th>      <th>P>|t|</th> <th>[95.0% Conf. Int.]</th> \n",
       "</tr>\n",
       "<tr>\n",
       "  <th>Intercept</th>                                         <td>   -5.6703</td> <td>    0.729</td> <td>   -7.779</td> <td> 0.000</td> <td>   -7.102    -4.238</td>\n",
       "</tr>\n",
       "<tr>\n",
       "  <th>IMDB_Score</th>                                        <td>    0.9425</td> <td>    0.110</td> <td>    8.574</td> <td> 0.000</td> <td>    0.727     1.158</td>\n",
       "</tr>\n",
       "<tr>\n",
       "  <th>Noms_Actor1</th>                                       <td>    0.0698</td> <td>    0.149</td> <td>    0.467</td> <td> 0.641</td> <td>   -0.224     0.363</td>\n",
       "</tr>\n",
       "<tr>\n",
       "  <th>Noms_Actor2</th>                                       <td>    0.0985</td> <td>    0.137</td> <td>    0.720</td> <td> 0.472</td> <td>   -0.170     0.367</td>\n",
       "</tr>\n",
       "<tr>\n",
       "  <th>Noms_Actor1:Noms_Actor2</th>                           <td>   -0.0325</td> <td>    0.096</td> <td>   -0.338</td> <td> 0.736</td> <td>   -0.222     0.157</td>\n",
       "</tr>\n",
       "<tr>\n",
       "  <th>Noms_Actor3</th>                                       <td>   -0.0020</td> <td>    0.101</td> <td>   -0.020</td> <td> 0.984</td> <td>   -0.200     0.196</td>\n",
       "</tr>\n",
       "<tr>\n",
       "  <th>Noms_Actor1:Noms_Actor3</th>                           <td>    0.1767</td> <td>    0.109</td> <td>    1.619</td> <td> 0.106</td> <td>   -0.038     0.391</td>\n",
       "</tr>\n",
       "<tr>\n",
       "  <th>Noms_Actor2:Noms_Actor3</th>                           <td>   -0.2343</td> <td>    0.183</td> <td>   -1.277</td> <td> 0.202</td> <td>   -0.595     0.126</td>\n",
       "</tr>\n",
       "<tr>\n",
       "  <th>Noms_Actor1:Noms_Actor2:Noms_Actor3</th>               <td>    0.0272</td> <td>    0.048</td> <td>    0.562</td> <td> 0.575</td> <td>   -0.068     0.122</td>\n",
       "</tr>\n",
       "<tr>\n",
       "  <th>Noms_Director</th>                                     <td>    0.1044</td> <td>    0.106</td> <td>    0.989</td> <td> 0.323</td> <td>   -0.103     0.312</td>\n",
       "</tr>\n",
       "<tr>\n",
       "  <th>Noms_Actor1:Noms_Director</th>                         <td>    0.0909</td> <td>    0.057</td> <td>    1.585</td> <td> 0.114</td> <td>   -0.022     0.204</td>\n",
       "</tr>\n",
       "<tr>\n",
       "  <th>Noms_Actor2:Noms_Director</th>                         <td>    0.0784</td> <td>    0.044</td> <td>    1.772</td> <td> 0.077</td> <td>   -0.009     0.165</td>\n",
       "</tr>\n",
       "<tr>\n",
       "  <th>Noms_Actor1:Noms_Actor2:Noms_Director</th>             <td>    0.0309</td> <td>    0.031</td> <td>    0.998</td> <td> 0.319</td> <td>   -0.030     0.092</td>\n",
       "</tr>\n",
       "<tr>\n",
       "  <th>Noms_Actor3:Noms_Director</th>                         <td>   -0.0337</td> <td>    0.088</td> <td>   -0.383</td> <td> 0.702</td> <td>   -0.207     0.140</td>\n",
       "</tr>\n",
       "<tr>\n",
       "  <th>Noms_Actor1:Noms_Actor3:Noms_Director</th>             <td>   -0.0946</td> <td>    0.036</td> <td>   -2.609</td> <td> 0.009</td> <td>   -0.166    -0.023</td>\n",
       "</tr>\n",
       "<tr>\n",
       "  <th>Noms_Actor2:Noms_Actor3:Noms_Director</th>             <td>    0.0274</td> <td>    0.055</td> <td>    0.497</td> <td> 0.620</td> <td>   -0.081     0.136</td>\n",
       "</tr>\n",
       "<tr>\n",
       "  <th>Noms_Actor1:Noms_Actor2:Noms_Actor3:Noms_Director</th> <td>   -0.0021</td> <td>    0.017</td> <td>   -0.119</td> <td> 0.905</td> <td>   -0.036     0.032</td>\n",
       "</tr>\n",
       "</table>\n",
       "<table class=\"simpletable\">\n",
       "<tr>\n",
       "  <th>Omnibus:</th>       <td>268.327</td> <th>  Durbin-Watson:     </th> <td>   0.530</td>\n",
       "</tr>\n",
       "<tr>\n",
       "  <th>Prob(Omnibus):</th> <td> 0.000</td>  <th>  Jarque-Bera (JB):  </th> <td>1529.033</td>\n",
       "</tr>\n",
       "<tr>\n",
       "  <th>Skew:</th>          <td> 2.229</td>  <th>  Prob(JB):          </th> <td>    0.00</td>\n",
       "</tr>\n",
       "<tr>\n",
       "  <th>Kurtosis:</th>      <td>10.035</td>  <th>  Cond. No.          </th> <td>    989.</td>\n",
       "</tr>\n",
       "</table>"
      ],
      "text/plain": [
       "<class 'statsmodels.iolib.summary.Summary'>\n",
       "\"\"\"\n",
       "                            OLS Regression Results                            \n",
       "==============================================================================\n",
       "Dep. Variable:                   Noms   R-squared:                       0.273\n",
       "Model:                            OLS   Adj. R-squared:                  0.250\n",
       "Method:                 Least Squares   F-statistic:                     11.99\n",
       "Date:                Thu, 28 Jan 2016   Prob (F-statistic):           7.83e-27\n",
       "Time:                        13:51:01   Log-Likelihood:                -1130.9\n",
       "No. Observations:                 529   AIC:                             2296.\n",
       "Df Residuals:                     512   BIC:                             2368.\n",
       "Df Model:                          16                                         \n",
       "Covariance Type:            nonrobust                                         \n",
       "=====================================================================================================================\n",
       "                                                        coef    std err          t      P>|t|      [95.0% Conf. Int.]\n",
       "---------------------------------------------------------------------------------------------------------------------\n",
       "Intercept                                            -5.6703      0.729     -7.779      0.000        -7.102    -4.238\n",
       "IMDB_Score                                            0.9425      0.110      8.574      0.000         0.727     1.158\n",
       "Noms_Actor1                                           0.0698      0.149      0.467      0.641        -0.224     0.363\n",
       "Noms_Actor2                                           0.0985      0.137      0.720      0.472        -0.170     0.367\n",
       "Noms_Actor1:Noms_Actor2                              -0.0325      0.096     -0.338      0.736        -0.222     0.157\n",
       "Noms_Actor3                                          -0.0020      0.101     -0.020      0.984        -0.200     0.196\n",
       "Noms_Actor1:Noms_Actor3                               0.1767      0.109      1.619      0.106        -0.038     0.391\n",
       "Noms_Actor2:Noms_Actor3                              -0.2343      0.183     -1.277      0.202        -0.595     0.126\n",
       "Noms_Actor1:Noms_Actor2:Noms_Actor3                   0.0272      0.048      0.562      0.575        -0.068     0.122\n",
       "Noms_Director                                         0.1044      0.106      0.989      0.323        -0.103     0.312\n",
       "Noms_Actor1:Noms_Director                             0.0909      0.057      1.585      0.114        -0.022     0.204\n",
       "Noms_Actor2:Noms_Director                             0.0784      0.044      1.772      0.077        -0.009     0.165\n",
       "Noms_Actor1:Noms_Actor2:Noms_Director                 0.0309      0.031      0.998      0.319        -0.030     0.092\n",
       "Noms_Actor3:Noms_Director                            -0.0337      0.088     -0.383      0.702        -0.207     0.140\n",
       "Noms_Actor1:Noms_Actor3:Noms_Director                -0.0946      0.036     -2.609      0.009        -0.166    -0.023\n",
       "Noms_Actor2:Noms_Actor3:Noms_Director                 0.0274      0.055      0.497      0.620        -0.081     0.136\n",
       "Noms_Actor1:Noms_Actor2:Noms_Actor3:Noms_Director    -0.0021      0.017     -0.119      0.905        -0.036     0.032\n",
       "==============================================================================\n",
       "Omnibus:                      268.327   Durbin-Watson:                   0.530\n",
       "Prob(Omnibus):                  0.000   Jarque-Bera (JB):             1529.033\n",
       "Skew:                           2.229   Prob(JB):                         0.00\n",
       "Kurtosis:                      10.035   Cond. No.                         989.\n",
       "==============================================================================\n",
       "\n",
       "Warnings:\n",
       "[1] Standard Errors assume that the covariance matrix of the errors is correctly specified.\n",
       "\"\"\""
      ]
     },
     "execution_count": 401,
     "metadata": {},
     "output_type": "execute_result"
    }
   ],
   "source": [
    "Y, x = dmatrices(\"Noms ~ IMDB_Score + Noms_Actor1*Noms_Actor2*Noms_Actor3*Noms_Director\", data=xx, return_type = \"dataframe\")\n",
    "model = sm.OLS(Y, x)\n",
    "results = model.fit()\n",
    "results.summary()"
   ]
  },
  {
   "cell_type": "code",
   "execution_count": 406,
   "metadata": {
    "collapsed": false
   },
   "outputs": [],
   "source": [
    "# x"
   ]
  },
  {
   "cell_type": "code",
   "execution_count": 400,
   "metadata": {
    "collapsed": false
   },
   "outputs": [
    {
     "data": {
      "text/plain": [
       "<matplotlib.collections.PathCollection at 0x126977990>"
      ]
     },
     "execution_count": 400,
     "metadata": {},
     "output_type": "execute_result"
    },
    {
     "data": {
      "image/png": "[encoded data removed]",
      "text/plain": [
       "<matplotlib.figure.Figure at 0x1123d5c10>"
      ]
     },
     "metadata": {},
     "output_type": "display_data"
    }
   ],
   "source": [
    "Y, x = dmatrices(\"Noms ~ Noms_Actor1\", data=xx, return_type = \"dataframe\")\n",
    "model = sm.OLS(Y, x)\n",
    "results = model.fit()\n",
    "results.summary()\n",
    "plt.plot(x,results.predict(x))\n",
    "plt.scatter(xx[['Noms_Actor1']].values, xx['Noms'])"
   ]
  },
  {
   "cell_type": "code",
   "execution_count": null,
   "metadata": {
    "collapsed": true
   },
   "outputs": [],
   "source": []
  },
  {
   "cell_type": "code",
   "execution_count": null,
   "metadata": {
    "collapsed": true
   },
   "outputs": [],
   "source": []
  },
  {
   "cell_type": "code",
   "execution_count": null,
   "metadata": {
    "collapsed": true
   },
   "outputs": [],
   "source": []
  },
  {
   "cell_type": "code",
   "execution_count": 381,
   "metadata": {
    "collapsed": false
   },
   "outputs": [],
   "source": [
    "xx_vals = xx[['IMDB_Score','Noms_Actor1','Noms_Actor2','Noms_Actor3','Noms_Director']]\n",
    "y_val = xx[\"Noms\"]\n",
    "np_xx = xx_vals.as_matrix()\n",
    "np_xx_t = np_xx.transpose()"
   ]
  },
  {
   "cell_type": "code",
   "execution_count": 383,
   "metadata": {
    "collapsed": false
   },
   "outputs": [
    {
     "data": {
      "text/plain": [
       "array([ 0.11131789,  0.24267744,  0.08527745, -0.17600164,  0.31047936])"
      ]
     },
     "execution_count": 383,
     "metadata": {},
     "output_type": "execute_result"
    }
   ],
   "source": [
    "from numpy.linalg import inv\n",
    "np.dot(np.dot(inv(np.dot(np_xx_t,np_xx)),np_xx_t),y_val)"
   ]
  },
  {
   "cell_type": "code",
   "execution_count": null,
   "metadata": {
    "collapsed": true
   },
   "outputs": [],
   "source": [
    "np.dot(np.dot(inv(np.dot(np_xx_t,np_xx)),np_xx_t),y_val)"
   ]
  }
 ],
 "metadata": {
  "kernelspec": {
   "display_name": "Python 2",
   "language": "python",
   "name": "python2"
  },
  "language_info": {
   "codemirror_mode": {
    "name": "ipython",
    "version": 2
   },
   "file_extension": ".py",
   "mimetype": "text/x-python",
   "name": "python",
   "nbconvert_exporter": "python",
   "pygments_lexer": "ipython2",
   "version": "2.7.11"
  }
 },
 "nbformat": 4,
 "nbformat_minor": 0
}
